{
 "cells": [
  {
   "cell_type": "markdown",
   "metadata": {},
   "source": [
    "# Aufgabenstellung\n",
    "\n",
    "Für ein Heizsystem wird ein Glastubus verwendet. Durch eine regelbare Stromzufuhr wird Wärme generiert.\n",
    "Je mehr Strom eingespeist wird, desto wärmer wird der Tubus.\n",
    "Der Tubus gibt Wärme an seine Umgebung ab.\n",
    "Die Menge der abgegebenen Wärme ist proportional zur Oberfläche des Tubus\n",
    "und des Temperaturunterschiedes zwischen dem Tubus und der Umgebung.\n",
    "Das Gleichgewicht des Temperatur-Verlustes und der Wärmeerzeugung lässt sich durch folgende Differentialgleichung ausdrücken:\n",
    "\n",
    "\\begin{align}\n",
    "m\\cdot c_P \\frac{dT}{dt} &= Q \\\\\n",
    "Q&=q_{in}-q_{out} \\\\\n",
    "q_{in} &= q \\\\\n",
    "q_{out} &=h_s \\cdot A_s(T-T_a) \n",
    "\\end{align}\n",
    "\n",
    "Das Ziel ist es ein System zu entwerfen, welches die Temperatur des Glastubus regelt. Hierbei muss darauf geachtet werden, dass die Temperatur möglichst schnell den Zeilwert erreicht und das die Temperaturschwankungen auf ein Minimum reduziert werden."
   ]
  },
  {
   "cell_type": "markdown",
   "metadata": {},
   "source": [
    "# Aufgabe 1\n",
    "In dieser Aufgabe soll die Differentialgleichung an einen Satz von Messdaten \"gefittet\" werden.\n",
    "Hiebei sollen $m$ (Masse), sowie $A_s$ (Oberfläche), ermittelt werden.\n",
    "Die Datei enthält Ergebnisse des Systems auf eine Sprungantwort. Die Werte der x-Achse sind die Zeitpunkte der Messungen in der Einheit Sekunde, startend bei 0 sek. Gemessen wurde die Temperaturdifferzenz zwischen dem Tubus und der Umgebung. Die Differenz wird in Kelvin angegenben und beträgt anfänglich 0 °K.\n",
    "\n",
    "Die durch die Aufgabenstellung gegebene Differentialgleichung lässt sich explizit lösen:\n",
    "\n",
    "$T(t)=k_1e^{-\\frac{T_a h_s t}{c_p m}} + \\frac{q}{T_a h_s}+T_a$\n",
    "\n",
    "Die Wahl von $k_1$ nimmt einfluss auf den Startwert des Systems zum Zeitpunkt $t=0$. \n",
    "\n",
    "\n",
    "Da in der Aufgabenstellung nut die Absolute Temperatur des Tubus gegeben ist sondern die Temperaturdifferenz zwischen Tubus und Umgebung, wird $T-T_a$ als die Variable des Systems betrachtet. Dadurch ändert sich die Differentialgleichung wie folgt:\n",
    "\n",
    "$T(t)=k_1e^{-\\frac{A_s h_s t}{c_p m}} + \\frac{q}{A_s h_s}$\n",
    "\n",
    "Die Formel zeigt, dass die zu erreichende Temperaturdifferenz nicht von der Aussentemperatur abhängt. Dies bedeutet, dass beliebige Temperaturen erreicht werden können, welche in einem gewissen Bereich über der Aussentemperatur liegen, dessen obere Grenze durch die maximale Leistung des Heizelements gebenen ist (bei festen Eigenschaften des Tubus).\n",
    "\n",
    "Für die Lösung der Differentialgleichung wurde $k_1$ so gewählt, dass zum Zeitpunkt $t=0$ die Temperaturdifferenz bei $0$ liegt.\n",
    "\n",
    "$k_1= -(\\frac{q}{A_s h_s})$\n",
    "\n",
    "\n",
    "Da es sich um eine Sprungsantwort handelt wird die Heizleisztung $q$ als konstant angesehen. Ebenfalls wird die Umgebungstemperatur $T_a$ als konstant angesehen. Das heißt, dass die Außentemperatur nicht durch den Tubus beeinflusst wird, was nur bedingt der Realität entspricht. Würde dies berücksichtig werden, so würde das Modell wesentlich komplexer werden."
   ]
  },
  {
   "cell_type": "code",
   "execution_count": 2,
   "metadata": {},
   "outputs": [],
   "source": [
    "%matplotlib inline\n",
    "import numpy as np\n",
    "import scipy as sc\n",
    "import matplotlib.pyplot as plt\n",
    "from scipy.optimize import curve_fit\n",
    "import control as c"
   ]
  },
  {
   "cell_type": "code",
   "execution_count": 3,
   "metadata": {},
   "outputs": [],
   "source": [
    "#einlesen der Messdaten\n",
    "\n",
    "my_data = np.genfromtxt('measurement_data.csv', delimiter=';')\n",
    "xdata = my_data[:,0]\n",
    "time = xdata\n",
    "ydata = my_data[:,1]"
   ]
  },
  {
   "cell_type": "code",
   "execution_count": 45,
   "metadata": {},
   "outputs": [],
   "source": [
    "#definition der konstanten\n",
    "\n",
    "hs = 5\n",
    "q = 2000\n",
    "Ta = 20\n",
    "cp = 1078"
   ]
  },
  {
   "cell_type": "code",
   "execution_count": 56,
   "metadata": {},
   "outputs": [],
   "source": [
    "#funktion zum fit \n",
    "\n",
    "def func(t, m, As):\n",
    "    return ((-(q/(As*hs)))*np.e**(-(As*hs*t)/(cp*m))+q/(As*hs))"
   ]
  },
  {
   "cell_type": "code",
   "execution_count": 57,
   "metadata": {},
   "outputs": [],
   "source": [
    "#bestimmen der lösung durch fit\n",
    "# die hier verwendeten startwerte wurden durch grobe abschätzungen ermittelt\n",
    "popt, pcov = curve_fit(func, xdata, ydata, p0=(10, 1), bounds=([0.1, 0.1],[30, 10]))"
   ]
  },
  {
   "cell_type": "code",
   "execution_count": 67,
   "metadata": {},
   "outputs": [
    {
     "name": "stdout",
     "output_type": "stream",
     "text": [
      "fres: 3917.39 \n",
      "m:  17.90\n",
      "As:   1.27\n"
     ]
    }
   ],
   "source": [
    "#ausgabe der ergebnisse\n",
    "\n",
    "m = popt[0]\n",
    "As = popt[1]\n",
    "\n",
    "residuals = ydata - func(xdata, m, As)\n",
    "fres = sum(np.abs(residuals))\n",
    "print('fres: %6.2f ' % fres)\n",
    "print('m: %6.2f' % m)\n",
    "print('As: %6.2f' % As)"
   ]
  },
  {
   "cell_type": "code",
   "execution_count": 68,
   "metadata": {},
   "outputs": [
    {
     "data": {
      "text/plain": [
       "<matplotlib.text.Text at 0x7f1bfe2cbdd0>"
      ]
     },
     "execution_count": 68,
     "metadata": {},
     "output_type": "execute_result"
    },
    {
     "data": {
      "image/png": "[encoded data removed]",
      "text/plain": [
       "<matplotlib.figure.Figure at 0x7f1bfe3cbf50>"
      ]
     },
     "metadata": {},
     "output_type": "display_data"
    }
   ],
   "source": [
    "#plotten der ergebnisse\n",
    "\n",
    "curvex = np.linspace(0,20000,10000)\n",
    "curvey = func(curvex, m, As)\n",
    "\n",
    "plt.plot(xdata,ydata,'*')\n",
    "plt.plot(curvex,curvey,'r')\n",
    "plt.xlabel(\"Zeit in Sekunden\")\n",
    "plt.ylabel(\"Temperaturdifferenz in Kelvin\")"
   ]
  },
  {
   "cell_type": "code",
   "execution_count": 69,
   "metadata": {},
   "outputs": [
    {
     "name": "stdout",
     "output_type": "stream",
     "text": [
      "Optimization terminated successfully.\n",
      "         Current function value: -314.642845\n",
      "         Iterations: 59\n",
      "         Function evaluations: 147\n"
     ]
    }
   ],
   "source": [
    "#finde grenzwert der gleichung durch optimierungsverfahren (umwandlung in minimierungsverfahren)\n",
    "max_x = sc.optimize.fmin(lambda x: -func(x, m, As), 0)"
   ]
  },
  {
   "cell_type": "markdown",
   "metadata": {},
   "source": [
    " "
   ]
  },
  {
   "cell_type": "markdown",
   "metadata": {},
   "source": [
    "# Auswertung\n",
    "Die rote Kurve beschreibt die Temperaturdifferenz zwischen Tubus und Umgebung in Abhängigkeit zur Zeit, welche durch die Lösung der Differentialgleichung bei den gegebenen Konstanten bestimmt wurde. Die Werte für $m$ und $A_s$ wurden anhand der Messdaten gefittet ($m=13.42$ und $A_s=0.95)$.\n",
    "Die Messdaten sind als blaue Sterne markiert. Es ist zu erkennen, dass die ermittelte Kurve gegen einen Grenzwert konvergiert ( $max_x = \\tilde{}314.643$ ). Trotz starker Streuungen haben die Messdaten einen ähnlichen Verlauf und scheinen gegen den selben Wert zu laufen.\n",
    "\n",
    "Der Tubus erwärmt sich solange, bis der Energieverlust zur Außenwelt ein Gleichgewicht mit der Leistung des Heizelementes bildet. Die Kurve weißt ein logarithmisches Wachstum auf. Anfangs ist die Temperaturzunahme maximal, läuft aber schnell in eine Sättigungsphase.\n",
    "\n",
    "Mathemetisch Berechnung der Werte für Masse und Außenfläche:\n",
    "\n",
    "$m = (\\pi*r_{aussen}^2*h - \\pi*r_{innen}^2*h)*Dichte = (1*\\pi*0.11^2 - 1*\\pi*0.1^2) *2500 = 16.4933$ \n",
    "\n",
    "$A_s = 2*\\pi*r_{isolierung}*h =  2*\\pi*0.2*1 = 1.2566$\n",
    "\n",
    "Durch den Fit ermittelte Werte sind $13.42kg$ für die Masse und Aussenfläche $0.95m^2$ für die Aussenfläche. Der Wert für die Aussenfläche weicht um ca. 25% ab und die gefittete Masse um ca 20%. \n",
    "\n",
    "# vergleich überarbeiten wenn wert der eingangsspannung fest steht"
   ]
  },
  {
   "cell_type": "code",
   "execution_count": 10,
   "metadata": {},
   "outputs": [
    {
     "name": "stdout",
     "output_type": "stream",
     "text": [
      "16.4933614313\n",
      "1.25663706144\n"
     ]
    }
   ],
   "source": [
    "m_math = (np.pi*0.11**2 - np.pi * 0.1**2) * 2500\n",
    "print m_math\n",
    "As_math = np.pi*0.2*2\n",
    "print As_math"
   ]
  },
  {
   "cell_type": "markdown",
   "metadata": {},
   "source": [
    "# Teil 2\n",
    "Ab jetzt werden die mathematisch berechneten Werte für m und As eingesetzt. Für die Berechnung der maximal zu erreichenden Temperaturdifferenz, wird die maximale Leistung des Heizelements dem Temperaturverlust an die Umgebung gleichgesetzt. Dadurch wird der Punkt berechnet, bei dem sich die Wärmeenergie des Glastubus, bei konstanter Heizleistung, nicht mehr ändert.\n",
    "\n",
    "$0 = q- h_sA_s(T-T_A)$\n",
    "\n",
    "$T-T_a = q/(h_s A_s)$\n",
    "\n",
    "Durch die gegebenen Werte für Masse und Aussenfläche des Tubus und einer Heizleistung von bis zu $2 kW$, ergibt sich eine maximal zu erreichende Temperaturdifferenz von 318.31 °K.\n",
    "\n",
    "Durch genauerer Betrachtung der obrigen Formel lässt sich erkennen, dass sich die maximale Temperaturdifferenz linear zur anliegenden Leistung verhält. Dies bedeutet, dass bei doppelter Leistung auch eine doppelt so hohe Temperaturdifferenz erreicht werden kann.\n",
    "                    \n"
   ]
  },
  {
   "cell_type": "code",
   "execution_count": 70,
   "metadata": {},
   "outputs": [],
   "source": [
    "m = 16.49331431\n",
    "As = 1.256637061"
   ]
  },
  {
   "cell_type": "code",
   "execution_count": 12,
   "metadata": {},
   "outputs": [
    {
     "name": "stdout",
     "output_type": "stream",
     "text": [
      "318.309886294\n"
     ]
    }
   ],
   "source": [
    "#formel entsteht durch gleichsetzung von qin und qout\n",
    "def get_max_temp_delta(q):\n",
    "    return q/(hs*As)\n",
    "\n",
    "#bestimme maximale temperaturdifferenz bei 2kW und obrigen m und As\n",
    "print(get_max_temp_delta(2000))"
   ]
  },
  {
   "cell_type": "code",
   "execution_count": 13,
   "metadata": {},
   "outputs": [],
   "source": [
    "#rückgabewert ist temperaturdifferenz zu zeitpunkt t bei konstanter Leistung q -> sprungantwort\n",
    "def step_response(t, q):\n",
    "    return (-((q/(As*hs)))*np.e**(-(As*hs*t)/(cp*m))+q/(As*hs))"
   ]
  },
  {
   "cell_type": "code",
   "execution_count": 14,
   "metadata": {},
   "outputs": [
    {
     "data": {
      "text/plain": [
       "<matplotlib.text.Text at 0x7f1bfec9f650>"
      ]
     },
     "execution_count": 14,
     "metadata": {},
     "output_type": "execute_result"
    },
    {
     "data": {
      "image/png": "[encoded data removed]",
      "text/plain": [
       "<matplotlib.figure.Figure at 0x7f1bfed5b090>"
      ]
     },
     "metadata": {},
     "output_type": "display_data"
    }
   ],
   "source": [
    "#plotten der unit_step_response\n",
    "curvex_unit_step = np.linspace(0,40000,10000)\n",
    "curvey_unit_step = step_response(curvex_unit_step, 1)\n",
    "\n",
    "plt.plot(curvex_unit_step,curvey_unit_step,'r')\n",
    "plt.xlabel(\"Zeit in Sekunden\")\n",
    "plt.ylabel(\"Temperaturdifferenz in Kelvin\")"
   ]
  },
  {
   "cell_type": "markdown",
   "metadata": {},
   "source": [
    "Der Plot zeigt die Temperaturdifferenz des Glastubus bei einem Sprung der Leistung von $0 W$ auf $1 W$.\n",
    "Die Geschwindigkeit mit der die Temperatur ansteigt ist anfangs maximal und nimmt schnell ab. Die Kurve konvergiert gegen ~$0.16°K$. Die Hälfte ist bereits nach ca. 2500ek erreicht, wobei ein Wert von ca. 0.16 erst nach 17500sek zu erkennen ist."
   ]
  },
  {
   "cell_type": "code",
   "execution_count": null,
   "metadata": {},
   "outputs": [],
   "source": []
  },
  {
   "cell_type": "code",
   "execution_count": null,
   "metadata": {},
   "outputs": [],
   "source": []
  },
  {
   "cell_type": "markdown",
   "metadata": {},
   "source": [
    "Das System ist in dem Sinne linear, dass bei Doppelter Leistung sich auch eine doppelt so hohe Temperatur einstellt."
   ]
  },
  {
   "cell_type": "code",
   "execution_count": 15,
   "metadata": {},
   "outputs": [
    {
     "data": {
      "text/plain": [
       "<matplotlib.text.Text at 0x7f1bfebe8bd0>"
      ]
     },
     "execution_count": 15,
     "metadata": {},
     "output_type": "execute_result"
    },
    {
     "data": {
      "image/png": "[encoded data removed]",
      "text/plain": [
       "<matplotlib.figure.Figure at 0x7f1bfebd41d0>"
      ]
     },
     "metadata": {},
     "output_type": "display_data"
    }
   ],
   "source": [
    "curvex= np.linspace(0,20000,1000)\n",
    "curvey= func(curvex, 1, Ta)\n",
    "plt.plot(curvex,curvey,'r')\n",
    "plt.xlabel(\"X-data\")\n",
    "plt.ylabel(\"Y-data\")"
   ]
  },
  {
   "cell_type": "markdown",
   "metadata": {},
   "source": [
    "Das die Messadten im Negativen Bereich beginnen, sieht man in dem hier präsentierten Graphen. Die Temperatur steigt nimmt in den ersten 5000 Sekunden um 12 Grad zu, jedoch stellt sich die Endtemperatur erst nach ca 13000 Sekunden, bei 0 Grad ein. "
   ]
  },
  {
   "cell_type": "code",
   "execution_count": 16,
   "metadata": {},
   "outputs": [],
   "source": [
    "f = 1000000\n",
    "#IST DAS SCHUMMELEI? MÖGLICH...\n",
    "def u(t, f):\n",
    "    return 1000*np.sin(np.pi*((f*2*t)%2))"
   ]
  },
  {
   "cell_type": "code",
   "execution_count": 17,
   "metadata": {},
   "outputs": [
    {
     "name": "stdout",
     "output_type": "stream",
     "text": [
      "(0, 0.0)\n",
      "(1, 0.0)\n",
      "(2, 0.0)\n",
      "(3, 0.0)\n",
      "(4, 0.0)\n",
      "(5, 0.0)\n",
      "(6, 0.0)\n",
      "(7, 0.0)\n",
      "(8, 0.0)\n",
      "(9, 0.0)\n"
     ]
    }
   ],
   "source": [
    "for t in range(10):\n",
    "    print(t, u(t/2, f))\n",
    "#stelle diese Aufgabe zurück, frage mal nach: ist immer 0 gewollt? was für ein Offset?"
   ]
  },
  {
   "cell_type": "code",
   "execution_count": 18,
   "metadata": {},
   "outputs": [
    {
     "name": "stdout",
     "output_type": "stream",
     "text": [
      "179.154943147\n"
     ]
    },
    {
     "data": {
      "text/plain": [
       "<matplotlib.text.Text at 0x7f1bfeaed510>"
      ]
     },
     "execution_count": 18,
     "metadata": {},
     "output_type": "execute_result"
    },
    {
     "data": {
      "image/png": "[encoded data removed]",
      "text/plain": [
       "<matplotlib.figure.Figure at 0x7f1bfed64e10>"
      ]
     },
     "metadata": {},
     "output_type": "display_data"
    }
   ],
   "source": [
    "# simuliere constante von 1kW -> berechne erzielte Temperatur bei 1kW leistung\n",
    "p_max = 1000\n",
    "T_1kW = p_max/(hs*As)+Ta\n",
    "print(T_1kW)\n",
    "\n",
    "# Funktion der Temperatur, welche bei der einer Temperatur anfängt, welche bei einer Leistung von 1kW entsteht\n",
    "def func_with_pre_temp(t, q, T_pre):\n",
    "    return (-(q/(As*hs)+Ta)*np.e**(-(As*hs*t)/(1078*m))+q/(As*hs)+Ta)+T_pre\n",
    "\n",
    "curvex= np.linspace(0,20000,10000)\n",
    "curvey= func_with_pre_temp(curvex, q, T_1kW)\n",
    "plt.plot(curvex,curvey,'r')\n",
    "plt.xlabel(\"X-data\")\n",
    "plt.ylabel(\"Y-data\")"
   ]
  },
  {
   "cell_type": "code",
   "execution_count": null,
   "metadata": {},
   "outputs": [],
   "source": []
  },
  {
   "cell_type": "code",
   "execution_count": 71,
   "metadata": {},
   "outputs": [],
   "source": [
    "def func_1(t, q, start_temp):\n",
    "    return (-((q/(As*hs)+Ta)-start_temp)*np.e**(-(As*hs*t)/(1078*m))+q/(As*hs)+Ta)\n",
    "    \n",
    "q = 1000\n",
    "time_offset = 0\n",
    "start_temp = 0\n",
    "curvex = np.arange(0, 300*60, 0.5)\n",
    "curvey = np.arange(0, 300*60, 0.5)\n",
    "\n",
    "\n",
    "m = 16.49\n",
    "As = 1.256\n",
    "Ta = 7.11\n",
    "\n",
    "for i in range(len(curvex)):\n",
    "    if(curvex[i] == 1800):\n",
    "        q = 2000\n",
    "        time_offset = 1800\n",
    "        start_temp = curvey[i-1]\n",
    "    curvey[i] = func_1(curvex[i]-time_offset, q, start_temp)"
   ]
  },
  {
   "cell_type": "code",
   "execution_count": 72,
   "metadata": {},
   "outputs": [
    {
     "data": {
      "text/plain": [
       "[<matplotlib.lines.Line2D at 0x7f1bfe1e6150>]"
      ]
     },
     "execution_count": 72,
     "metadata": {},
     "output_type": "execute_result"
    },
    {
     "data": {
      "image/png": "[encoded data removed]",
      "text/plain": [
       "<matplotlib.figure.Figure at 0x7f1bfe3915d0>"
      ]
     },
     "metadata": {},
     "output_type": "display_data"
    }
   ],
   "source": [
    "plt.plot(curvex, curvey, 'r')"
   ]
  },
  {
   "cell_type": "code",
   "execution_count": 73,
   "metadata": {},
   "outputs": [
    {
     "name": "stdout",
     "output_type": "stream",
     "text": [
      "95.1293364289\n"
     ]
    }
   ],
   "source": [
    "print(curvey[4000])\n"
   ]
  },
  {
   "cell_type": "code",
   "execution_count": 74,
   "metadata": {},
   "outputs": [],
   "source": [
    "curvex_3 = np.arange(0, 250*60, 0.5)\n",
    "curvey_3 = np.arange(0, 250*60, 0.5)\n",
    "\n",
    "start_temp = 0\n",
    "for i in range(len(curvex_3)):\n",
    "    q = 1000+(np.random.rand(1)-0.5)*1000\n",
    "    curvey_3[i] = func_1(0.5, q, start_temp)\n",
    "    start_temp =  curvey_3[i]"
   ]
  },
  {
   "cell_type": "code",
   "execution_count": 75,
   "metadata": {},
   "outputs": [
    {
     "data": {
      "text/plain": [
       "[<matplotlib.lines.Line2D at 0x7f1bfe128e10>]"
      ]
     },
     "execution_count": 75,
     "metadata": {},
     "output_type": "execute_result"
    },
    {
     "data": {
      "image/png": "[encoded data removed]",
      "text/plain": [
       "<matplotlib.figure.Figure at 0x7f1bfe1af2d0>"
      ]
     },
     "metadata": {},
     "output_type": "display_data"
    }
   ],
   "source": [
    "plt.plot(curvex_3, curvey_3, 'r')"
   ]
  },
  {
   "cell_type": "code",
   "execution_count": 76,
   "metadata": {},
   "outputs": [],
   "source": [
    "#charakteristische Formal für das PT1 Verhalten\n",
    "def func(x, K, T):\n",
    "     return K*(1 - np.e**(-x/T))"
   ]
  },
  {
   "cell_type": "code",
   "execution_count": 227,
   "metadata": {},
   "outputs": [
    {
     "name": "stdout",
     "output_type": "stream",
     "text": [
      "K=0.15923566879\n",
      "T=2830.60828025\n"
     ]
    }
   ],
   "source": [
    "#Kooeffizientenvergleich liefert werte für T und K\n",
    "q = 2000\n",
    "q_max = 2000\n",
    "T = cp*m/(As*hs)\n",
    "K = q/(As*hs)/q\n",
    "print (\"K=\" +str(K))\n",
    "print (\"T=\" + str(T))"
   ]
  },
  {
   "cell_type": "code",
   "execution_count": 228,
   "metadata": {},
   "outputs": [
    {
     "data": {
      "text/plain": [
       "\n",
       "  0.1592\n",
       "----------\n",
       "2831 s + 1"
      ]
     },
     "execution_count": 228,
     "metadata": {},
     "output_type": "execute_result"
    }
   ],
   "source": [
    "#transferfunktion von PT1\n",
    "sys = c.tf([K],[T,1])\n",
    "sys\n"
   ]
  },
  {
   "cell_type": "code",
   "execution_count": 229,
   "metadata": {},
   "outputs": [
    {
     "name": "stdout",
     "output_type": "stream",
     "text": [
      "stable amplitude = 18.0313433724\n",
      "stable mean = 159.013124139\n"
     ]
    },
    {
     "data": {
      "image/png": "[encoded data removed]",
      "text/plain": [
       "<matplotlib.figure.Figure at 0x7f1bf9617e90>"
      ]
     },
     "metadata": {},
     "output_type": "display_data"
    }
   ],
   "source": [
    "#lege sinusfunktion an wie in aufgabe beschrieben\n",
    "time = np.arange(0,350*60,0.5)\n",
    "\n",
    "# timespan: zeitspanne des experiments in sekunden: 600[sek]\n",
    "# delta_t: zeitdelte der auswertungen, auswertung alle 0.5[sek]\n",
    "# frequence: frequenz mit der die sinusschwingung beeinflusst\n",
    "def create_input(timespan, delta_t, frequence):\n",
    "    array = np.zeros(np.int(timespan/delta_t))\n",
    "    time = 0\n",
    "    i = 0\n",
    "    while time < timespan:\n",
    "        # variante 1: rechne leistung um, da das k auf basis 2000W bestimmt wurde (sodass 2000W == 1)\n",
    "        #array[i] = 0.5*np.sin(2*np.pi*frequence*time) + 0.5\n",
    "        # variente 2: setze k = k/2000 (aktive)\n",
    "        array[i] = (1000*np.sin(2*np.pi*frequence*time) + 1000)\n",
    "        i = i+1\n",
    "        time = time + delta_t\n",
    "    return array\n",
    "        \n",
    "input = create_input(350*60, 0.5, 0.001)      \n",
    "output, time_out, xout =  c.lsim(sys,input,time)\n",
    "plt.plot(time_out,output,'r.')\n",
    "#plt.plot(time,input,'b')\n",
    "plt.xlabel('Time/s')\n",
    "plt.ylabel('Amplitude / N')\n",
    "stable_max = np.max(output[35000:])\n",
    "stable_min = np.min(output[35000:])\n",
    "stable_mean = np.mean(output[35000:])\n",
    "\n",
    "print (\"stable amplitude = \" +str(stable_max-stable_min))\n",
    "print (\"stable mean = \" +str(stable_mean))"
   ]
  },
  {
   "cell_type": "markdown",
   "metadata": {},
   "source": [
    "Die Grafik Zeigt die Antwort des Systems auf eine wie in der Aufgabe beschriebene Sinusschwingung des Eingangssignals.\n",
    "Die Sinusschwingung des Eingangssignals lässt sich eindeutig im Plot erkennen. Schon nach einer Zeit von ca. 13000 ekunden lässt sich eine konstante Schwingung erkennen.Diese Schwingung hat eine Amplitude von ca. 18°K und eine schwingt um einen Wert ca. 159 °K."
   ]
  },
  {
   "cell_type": "code",
   "execution_count": 126,
   "metadata": {},
   "outputs": [
    {
     "data": {
      "image/png": "[encoded data removed]",
      "text/plain": [
       "<matplotlib.figure.Figure at 0x7f1bfd6dd450>"
      ]
     },
     "metadata": {},
     "output_type": "display_data"
    }
   ],
   "source": [
    "# ist mit unit step responce sprung aus maximalleistung 2kW gemeint oder auf 1W?\n",
    "# hier -> 1W  da das k skaliert wurde\n",
    "step_data = c.step_response(sys)\n",
    "plt.plot(step_data[0],step_data[1])\n",
    "plt.grid()"
   ]
  },
  {
   "cell_type": "markdown",
   "metadata": {},
   "source": [
    "# hier muss noch die grafik beschrieben werden\n"
   ]
  },
  {
   "cell_type": "code",
   "execution_count": 128,
   "metadata": {},
   "outputs": [
    {
     "data": {
      "text/plain": [
       "<matplotlib.text.Text at 0x7f1bfe4c0050>"
      ]
     },
     "execution_count": 128,
     "metadata": {},
     "output_type": "execute_result"
    },
    {
     "data": {
      "image/png": "[encoded data removed]",
      "text/plain": [
       "<matplotlib.figure.Figure at 0x7f1bfdf641d0>"
      ]
     },
     "metadata": {},
     "output_type": "display_data"
    }
   ],
   "source": [
    "time = np.arange(0,300*60,0.5)\n",
    "input = np.zeros(len(time))+1000\n",
    "for i, val in enumerate(time):\n",
    "    if (val > 30*60): input[i] = 2000\n",
    "        \n",
    "output, time_out, xout =  c.lsim(sys,input,time)\n",
    "plt.plot(time_out,output,'r.')\n",
    "plt.xlabel('Zeit/s')\n",
    "plt.ylabel('Temperaturdifferenz/K')"
   ]
  },
  {
   "cell_type": "markdown",
   "metadata": {},
   "source": [
    "Der Plot zeigt die geringer werdende Temperaturzunahme bis zu $t=1800$. Der Sprung von 1kW auf 2kW ist deutlich zu erkennen, in Form der plötzlichen Zunahme der Temperatursteigung."
   ]
  },
  {
   "cell_type": "code",
   "execution_count": null,
   "metadata": {},
   "outputs": [],
   "source": []
  },
  {
   "cell_type": "code",
   "execution_count": 207,
   "metadata": {
    "scrolled": false
   },
   "outputs": [
    {
     "name": "stdout",
     "output_type": "stream",
     "text": [
      "30000\n"
     ]
    },
    {
     "data": {
      "image/png": "[encoded data removed]",
      "text/plain": [
       "<matplotlib.figure.Figure at 0x7f1bfa708410>"
      ]
     },
     "metadata": {},
     "output_type": "display_data"
    }
   ],
   "source": [
    "time = np.arange(0,250*60,0.5)\n",
    "stable_input = np.zeros(len(time))+1000\n",
    "noise_input = (np.random.rand(len(time))-0.5)*1000\n",
    "input = stable_input + noise_input\n",
    "output, time_out, xout =  c.lsim(sys,input,time)\n",
    "output_stable, time_out_stable, xout_stable =  c.lsim(sys,stable_input,time)\n",
    "\n",
    "plt.subplot(2, 1, 1)\n",
    "plt.plot(time_out,output,'r.')\n",
    "plt.plot(time_out,output_stable,'b')\n",
    "plt.xlabel('Zeit/s')\n",
    "plt.ylabel('Temperaturdifferenz/K')\n",
    "\n",
    "plt.subplot(2, 1, 2)\n",
    "start_time = 10000\n",
    "end_time = 10500\n",
    "plt.plot(time_out[start_time:end_time],output[start_time:end_time],'r')\n",
    "plt.plot(time_out[start_time:end_time],output_stable[start_time:end_time],'b')\n",
    "plt.xlabel('Zeit/s')\n",
    "plt.ylabel('Temperaturdifferenz/K')\n",
    "plt.show()"
   ]
  },
  {
   "cell_type": "markdown",
   "metadata": {},
   "source": [
    "Die rote Kurve der obrigen Grafik zeigt die Reaktion des Systems auf ein eingangssignal von 1kW mit einer gleichverteilten Störung von 500W. Die blaue Kurve selbiges System, ohne Störung. In dem hier gezeigten Ausschnitt ist die Störung kaum bis gar nicht zu erkennen, lediglich die mittlere Leistung von 1kW ist erkennbar durch den algemeinen Trend der Kurve. Beide Kurven haben keine deutlichen Abweichungen voneinander.\n",
    "\n",
    "Bei Betrachtung eines kleinen Zeitintervalls der beiden Kurven, ist der Effekt des Störsignals bei der roten Kurve deutlich zu erkennen. Zu anfangs wirken sich die Leistungsschwankungne noch nicht so deutlich auf die Gradlinigkeit der Kurve aus, was sich im späteren verlauf jedoch ändert, da der Temperaturverlust durch die Wärmeabgabe an die Umgebung einen stärkeren Einfluss erhält. Die Abweichungen zur blauen sind gut bei entsprechend genauer Betrachtung gut zu erkennen, jedoch ist die Differenz der beiden Kurven"
   ]
  },
  {
   "cell_type": "code",
   "execution_count": 208,
   "metadata": {
    "scrolled": false
   },
   "outputs": [
    {
     "data": {
      "text/plain": [
       "<matplotlib.text.Text at 0x7f1bf9965c90>"
      ]
     },
     "execution_count": 208,
     "metadata": {},
     "output_type": "execute_result"
    },
    {
     "data": {
      "image/png": "[encoded data removed]",
      "text/plain": [
       "<matplotlib.figure.Figure at 0x7f1bf9df1bd0>"
      ]
     },
     "metadata": {},
     "output_type": "display_data"
    }
   ],
   "source": [
    "plt.plot(time_out[start_time:end_time],output_stable[start_time:end_time]-output[start_time:end_time],'b')\n",
    "plt.xlabel('Zeit/s')\n",
    "plt.ylabel('Temperaturdifferenz/K')"
   ]
  },
  {
   "cell_type": "code",
   "execution_count": null,
   "metadata": {},
   "outputs": [],
   "source": []
  },
  {
   "cell_type": "markdown",
   "metadata": {},
   "source": []
  },
  {
   "cell_type": "code",
   "execution_count": 262,
   "metadata": {},
   "outputs": [
    {
     "name": "stdout",
     "output_type": "stream",
     "text": [
      "17776.22\n",
      "\n",
      "   2831\n",
      "----------\n",
      "2831 s + 1\n",
      "\n"
     ]
    },
    {
     "data": {
      "text/plain": [
       "[<matplotlib.lines.Line2D at 0x7f1bf875db50>]"
      ]
     },
     "execution_count": 262,
     "metadata": {},
     "output_type": "execute_result"
    },
    {
     "data": {
      "image/png": "[encoded data removed]",
      "text/plain": [
       "<matplotlib.figure.Figure at 0x7f1bf87e6890>"
      ]
     },
     "metadata": {},
     "output_type": "display_data"
    }
   ],
   "source": [
    "Gs = sys\n",
    "Tt = 1\n",
    "Kp = 1/K*T/Tt\n",
    "print(Kp)\n",
    "P = c.tf([Kp],[1])\n",
    "Gr = P\n",
    "Go = Gr*Gs\n",
    "print Go\n",
    "\n",
    "[yout, time] = c.step(Go)\n",
    "plt.plot(time, yout)"
   ]
  },
  {
   "cell_type": "code",
   "execution_count": null,
   "metadata": {},
   "outputs": [],
   "source": []
  },
  {
   "cell_type": "code",
   "execution_count": 260,
   "metadata": {},
   "outputs": [],
   "source": [
    "Tt = 1\n",
    "Kp = 0.9/K*T/Tt\n",
    "Ti = 3.33*Tt\n",
    "\n",
    "P = c.tf([Kp],[1])\n",
    "I = c.tf([1], [Ti, 0])\n",
    "PI = P + I\n",
    "Go = PI*sys\n",
    "PI"
   ]
  },
  {
   "cell_type": "code",
   "execution_count": 261,
   "metadata": {},
   "outputs": [
    {
     "data": {
      "text/plain": [
       "[<matplotlib.lines.Line2D at 0x7f1bf881efd0>]"
      ]
     },
     "execution_count": 261,
     "metadata": {},
     "output_type": "execute_result"
    },
    {
     "data": {
      "image/png": "[encoded data removed]",
      "text/plain": [
       "<matplotlib.figure.Figure at 0x7f1bf8a27b90>"
      ]
     },
     "metadata": {},
     "output_type": "display_data"
    }
   ],
   "source": [
    "[yout, time] = c.step(Go)\n",
    "plt.plot(time, yout)"
   ]
  },
  {
   "cell_type": "code",
   "execution_count": null,
   "metadata": {},
   "outputs": [],
   "source": []
  },
  {
   "cell_type": "code",
   "execution_count": null,
   "metadata": {},
   "outputs": [],
   "source": []
  },
  {
   "cell_type": "code",
   "execution_count": null,
   "metadata": {},
   "outputs": [],
   "source": []
  },
  {
   "cell_type": "code",
   "execution_count": null,
   "metadata": {},
   "outputs": [],
   "source": []
  },
  {
   "cell_type": "code",
   "execution_count": null,
   "metadata": {},
   "outputs": [],
   "source": []
  },
  {
   "cell_type": "code",
   "execution_count": null,
   "metadata": {},
   "outputs": [],
   "source": []
  },
  {
   "cell_type": "code",
   "execution_count": null,
   "metadata": {},
   "outputs": [],
   "source": []
  }
 ],
 "metadata": {
  "kernelspec": {
   "display_name": "Python 3",
   "language": "python",
   "name": "python3"
  },
  "language_info": {
   "codemirror_mode": {
    "name": "ipython",
    "version": 3
   },
   "file_extension": ".py",
   "mimetype": "text/x-python",
   "name": "python",
   "nbconvert_exporter": "python",
   "pygments_lexer": "ipython3",
   "version": "3.6.1"
  }
 },
 "nbformat": 4,
 "nbformat_minor": 2
}
