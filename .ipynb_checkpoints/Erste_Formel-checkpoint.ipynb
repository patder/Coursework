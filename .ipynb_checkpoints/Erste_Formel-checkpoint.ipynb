{
 "cells": [
  {
   "cell_type": "code",
   "execution_count": 33,
   "metadata": {},
   "outputs": [],
   "source": [
    "%matplotlib inline\n",
    "import numpy as np\n",
    "from scipy.optimize import curve_fit\n",
    "import matplotlib.pyplot as plt\n"
   ]
  },
  {
   "cell_type": "code",
   "execution_count": 6,
   "metadata": {},
   "outputs": [],
   "source": [
    "my_data = np.genfromtxt('measurement_data.csv', delimiter=';')\n",
    "xdata = my_data[:,0]\n",
    "ydata = my_data[:,1]"
   ]
  },
  {
   "cell_type": "code",
   "execution_count": null,
   "metadata": {},
   "outputs": [],
   "source": []
  },
  {
   "cell_type": "code",
   "execution_count": 7,
   "metadata": {},
   "outputs": [],
   "source": [
    "#def func(t, q, m):\n",
    "#  return q*t/(m*1078)\n",
    "def func(t, q, As, Ta, m):\n",
    "    hs = 5\n",
    "    return ((-(q/(As*hs)+Ta)+Ta)*np.e**(-(As*hs*t)/(1078*m))+q/(As*hs)+Ta)"
   ]
  },
  {
   "cell_type": "code",
   "execution_count": 8,
   "metadata": {},
   "outputs": [],
   "source": [
    "popt, pcov = curve_fit(func, xdata, ydata, p0=(1000,1,20, 15), bounds=([0, 0.1, -65, 10],[2000, 2, 300, 20]))"
   ]
  },
  {
   "cell_type": "code",
   "execution_count": 9,
   "metadata": {},
   "outputs": [
    {
     "name": "stdout",
     "output_type": "stream",
     "text": [
      "fres: 3930.32 \n",
      "q: 1297.62\n",
      "As:   0.80\n",
      "Ta: -11.42\n",
      "m:  10.73\n"
     ]
    }
   ],
   "source": [
    "q  = popt[0]\n",
    "As = popt[1]\n",
    "Ta = popt[2]\n",
    "m = popt[3]\n",
    "\n",
    "residuals = ydata - func(xdata,q, As, Ta, m)\n",
    "fres = sum(np.abs(residuals))\n",
    "print('fres: %6.2f ' % fres)\n",
    "print('q: %6.2f' % q)\n",
    "print('As: %6.2f' % As)\n",
    "print('Ta: %6.2f' % Ta)\n",
    "print('m: %6.2f' % m)\n",
    "\n",
    "#print('Ta: %6.2f' % Ta)"
   ]
  },
  {
   "cell_type": "code",
   "execution_count": 10,
   "metadata": {},
   "outputs": [],
   "source": [
    "curvex= np.linspace(0,20000,10000)\n",
    "curvey= func(curvex,q,As,Ta, m)"
   ]
  },
  {
   "cell_type": "code",
   "execution_count": 11,
   "metadata": {},
   "outputs": [
    {
     "data": {
      "text/plain": [
       "<matplotlib.text.Text at 0x7f29cf4c4990>"
      ]
     },
     "execution_count": 11,
     "metadata": {},
     "output_type": "execute_result"
    },
    {
     "data": {
      "image/png": "[encoded data removed]",
      "text/plain": [
       "<matplotlib.figure.Figure at 0x7f29cf915890>"
      ]
     },
     "metadata": {},
     "output_type": "display_data"
    }
   ],
   "source": [
    "plt.plot(xdata,ydata,'*')\n",
    "plt.plot(curvex,curvey,'r')\n",
    "plt.xlabel(\"X-data\")\n",
    "plt.ylabel(\"Y-data\")"
   ]
  },
  {
   "cell_type": "code",
   "execution_count": null,
   "metadata": {},
   "outputs": [],
   "source": []
  },
  {
   "cell_type": "markdown",
   "metadata": {},
   "source": [
    "# Teil 2\n",
    "ab jetzt werden die berechneten Werte für m und As eingesetzt, Ta und nocheinmal gefittes anhand der festen Werte"
   ]
  },
  {
   "cell_type": "code",
   "execution_count": 12,
   "metadata": {},
   "outputs": [],
   "source": [
    "m = 16.49331431\n",
    "As = 1.256637061\n",
    "hs = 5"
   ]
  },
  {
   "cell_type": "code",
   "execution_count": 13,
   "metadata": {},
   "outputs": [],
   "source": [
    "def func(t, q, Ta):\n",
    "    return (-((q/(As*hs)+Ta)+Ta)*np.e**(-(As*hs*t)/(1078*m))+q/(As*hs)+Ta)"
   ]
  },
  {
   "cell_type": "code",
   "execution_count": 14,
   "metadata": {},
   "outputs": [
    {
     "name": "stdout",
     "output_type": "stream",
     "text": [
      "fres: 3938.01 \n",
      "q: 1876.23\n",
      "Ta:  14.21\n"
     ]
    }
   ],
   "source": [
    "popt, pcov = curve_fit(func, xdata, ydata, p0=(1000, 30), bounds=([0, -20],[2000, 100]))\n",
    "q  = popt[0]\n",
    "Ta = popt[1]\n",
    "\n",
    "residuals = ydata - func(xdata ,q, Ta)\n",
    "fres = sum(np.abs(residuals))\n",
    "print('fres: %6.2f ' % fres)\n",
    "print('q: %6.2f' % q)\n",
    "print('Ta: %6.2f' % Ta)"
   ]
  },
  {
   "cell_type": "code",
   "execution_count": 15,
   "metadata": {},
   "outputs": [
    {
     "data": {
      "text/plain": [
       "<matplotlib.text.Text at 0x7f29cf3c1410>"
      ]
     },
     "execution_count": 15,
     "metadata": {},
     "output_type": "execute_result"
    },
    {
     "data": {
      "image/png": "[encoded data removed]",
      "text/plain": [
       "<matplotlib.figure.Figure at 0x7f29cf4e8b10>"
      ]
     },
     "metadata": {},
     "output_type": "display_data"
    }
   ],
   "source": [
    "curvex= np.linspace(0,20000,10000)\n",
    "curvey= func(curvex, q, Ta)\n",
    "plt.plot(xdata,ydata,'*')\n",
    "plt.plot(curvex,curvey,'r')\n",
    "plt.xlabel(\"X-data\")\n",
    "plt.ylabel(\"Y-data\")"
   ]
  },
  {
   "cell_type": "markdown",
   "metadata": {},
   "source": [
    "# -> wähle Ta als 14 Kelvin/Grad C\n",
    "Nun ermittle maximale Temperatur des Tubus bei maximaler Heizleistung von 2kW\n",
    "\n",
    "Berechnung: q_in = q_out, also Energieverlust pro Zeit ist gleich der Heizleistung von 2kW"
   ]
  },
  {
   "cell_type": "code",
   "execution_count": 16,
   "metadata": {},
   "outputs": [],
   "source": [
    "Ta = 7.11"
   ]
  },
  {
   "cell_type": "code",
   "execution_count": 17,
   "metadata": {},
   "outputs": [
    {
     "name": "stdout",
     "output_type": "stream",
     "text": [
      "Die maximal zu erreichende Temperatur liegt bei: 325.419886294 (bei festem Ta von 7.11.\n"
     ]
    },
    {
     "data": {
      "text/plain": [
       "314.1176470588235"
      ]
     },
     "execution_count": 17,
     "metadata": {},
     "output_type": "execute_result"
    },
    {
     "data": {
      "image/png": "[encoded data removed]",
      "text/plain": [
       "<matplotlib.figure.Figure at 0x7f29cf3c11d0>"
      ]
     },
     "metadata": {},
     "output_type": "display_data"
    }
   ],
   "source": [
    "#2 - hs*As*(T-Ta)= 0\n",
    "T_max = 2000/(hs*As)+Ta \n",
    "print (\"Die maximal zu erreichende Temperatur liegt bei: {} (bei festem Ta von {}.\".format(T_max, Ta))\n",
    "\n",
    "def maxT(Ta_local):\n",
    "    return 2000/(hs*As)+Ta_local\n",
    "\n",
    "aussentemperatur = np.linspace(-20,100,120)\n",
    "T_max= maxT(aussentemperatur)\n",
    "plt.plot(aussentemperatur,aussentemperatur,'r')\n",
    "plt.xlabel(\"Ta\")\n",
    "plt.ylabel(\"T_max\")\n",
    "\n",
    "2000/(hs*1.36)+20"
   ]
  },
  {
   "cell_type": "markdown",
   "metadata": {},
   "source": [
    "Das System ist in dem Sinne linear, dass bei Doppelter Leistung sich auch eine doppelt so hohe Temperatur einstellt."
   ]
  },
  {
   "cell_type": "code",
   "execution_count": 18,
   "metadata": {},
   "outputs": [
    {
     "data": {
      "text/plain": [
       "<matplotlib.text.Text at 0x7f29cf2d3dd0>"
      ]
     },
     "execution_count": 18,
     "metadata": {},
     "output_type": "execute_result"
    },
    {
     "data": {
      "image/png": "[encoded data removed]",
      "text/plain": [
       "<matplotlib.figure.Figure at 0x7f29cf915050>"
      ]
     },
     "metadata": {},
     "output_type": "display_data"
    }
   ],
   "source": [
    "curvex= np.linspace(0,20000,1000)\n",
    "curvey= func(curvex, 1, Ta)\n",
    "plt.plot(curvex,curvey,'r')\n",
    "plt.xlabel(\"X-data\")\n",
    "plt.ylabel(\"Y-data\")"
   ]
  },
  {
   "cell_type": "markdown",
   "metadata": {},
   "source": [
    "Das die Messadten im Negativen Bereich beginnen, sieht man in dem hier präsentierten Graphen. Die Temperatur steigt nimmt in den ersten 5000 Sekunden um 12 Grad zu, jedoch stellt sich die Endtemperatur erst nach ca 13000 Sekunden, bei 0 Grad ein. "
   ]
  },
  {
   "cell_type": "code",
   "execution_count": 19,
   "metadata": {},
   "outputs": [],
   "source": [
    "f = 1000000\n",
    "#IST DAS SCHUMMELEI? MÖGLICH...\n",
    "def u(t, f):\n",
    "    return 1000*np.sin(np.pi*((f*2*t)%2))"
   ]
  },
  {
   "cell_type": "code",
   "execution_count": 20,
   "metadata": {},
   "outputs": [
    {
     "name": "stdout",
     "output_type": "stream",
     "text": [
      "(0, 0.0)\n",
      "(1, 0.0)\n",
      "(2, 0.0)\n",
      "(3, 0.0)\n",
      "(4, 0.0)\n",
      "(5, 0.0)\n",
      "(6, 0.0)\n",
      "(7, 0.0)\n",
      "(8, 0.0)\n",
      "(9, 0.0)\n"
     ]
    }
   ],
   "source": [
    "for t in range(10):\n",
    "    print(t, u(t/2, f))\n",
    "#stelle diese Aufgabe zurück, frage mal nach: ist immer 0 gewollt? was für ein Offset?"
   ]
  },
  {
   "cell_type": "code",
   "execution_count": 21,
   "metadata": {},
   "outputs": [
    {
     "name": "stdout",
     "output_type": "stream",
     "text": [
      "166.264943147\n"
     ]
    },
    {
     "data": {
      "text/plain": [
       "<matplotlib.text.Text at 0x7f29cf238cd0>"
      ]
     },
     "execution_count": 21,
     "metadata": {},
     "output_type": "execute_result"
    },
    {
     "data": {
      "image/png": "[encoded data removed]",
      "text/plain": [
       "<matplotlib.figure.Figure at 0x7f29cf336450>"
      ]
     },
     "metadata": {},
     "output_type": "display_data"
    }
   ],
   "source": [
    "# simuliere constante von 1kW -> berechne erzielte Temperatur bei 1kW leistung\n",
    "p_max = 1000\n",
    "T_1kW = p_max/(hs*As)+Ta\n",
    "print(T_1kW)\n",
    "\n",
    "# Funktion der Temperatur, welche bei der einer Temperatur anfängt, welche bei einer Leistung von 1kW entsteht\n",
    "def func_with_pre_temp(t, q, T_pre):\n",
    "    return (-(q/(As*hs)+Ta)*np.e**(-(As*hs*t)/(1078*m))+q/(As*hs)+Ta)+T_pre\n",
    "\n",
    "curvex= np.linspace(0,20000,10000)\n",
    "curvey= func_with_pre_temp(curvex, q, T_1kW)\n",
    "plt.plot(curvex,curvey,'r')\n",
    "plt.xlabel(\"X-data\")\n",
    "plt.ylabel(\"Y-data\")"
   ]
  },
  {
   "cell_type": "code",
   "execution_count": null,
   "metadata": {},
   "outputs": [],
   "source": []
  },
  {
   "cell_type": "code",
   "execution_count": 56,
   "metadata": {},
   "outputs": [],
   "source": [
    "def func_1(t, q, start_temp):\n",
    "    return (-((q/(As*hs)+Ta)-start_temp)*np.e**(-(As*hs*t)/(1078*m))+q/(As*hs)+Ta)\n",
    "    \n",
    "q = 1000\n",
    "time_offset = 0\n",
    "start_temp = 0\n",
    "curvex = np.arange(0, 300*60, 0.5)\n",
    "curvey = np.arange(0, 300*60, 0.5)\n",
    "\n",
    "\n",
    "m = 16.49\n",
    "As = 1.35\n",
    "Ta = 7.11\n",
    "\n",
    "for i in range(len(curvex)):\n",
    "    if(curvex[i] == 1800):\n",
    "        q = 2000\n",
    "        time_offset = 1800\n",
    "        start_temp = curvey[i-1]\n",
    "    curvey[i] = func_1(curvex[i]-time_offset, q, start_temp)"
   ]
  },
  {
   "cell_type": "code",
   "execution_count": 57,
   "metadata": {},
   "outputs": [
    {
     "data": {
      "text/plain": [
       "[<matplotlib.lines.Line2D at 0x7f29ceae9310>]"
      ]
     },
     "execution_count": 57,
     "metadata": {},
     "output_type": "execute_result"
    },
    {
     "data": {
      "image/png": "[encoded data removed]",
      "text/plain": [
       "<matplotlib.figure.Figure at 0x7f29cecc66d0>"
      ]
     },
     "metadata": {},
     "output_type": "display_data"
    }
   ],
   "source": [
    "plt.plot(curvex, curvey, 'r')"
   ]
  },
  {
   "cell_type": "code",
   "execution_count": 58,
   "metadata": {},
   "outputs": [
    {
     "name": "stdout",
     "output_type": "stream",
     "text": [
      "93.4291453779\n"
     ]
    }
   ],
   "source": [
    "print(curvey[4000])"
   ]
  },
  {
   "cell_type": "code",
   "execution_count": 59,
   "metadata": {},
   "outputs": [],
   "source": [
    "curvex_3 = np.arange(0, 250*60, 0.5)\n",
    "curvey_3 = np.arange(0, 250*60, 0.5)\n",
    "\n",
    "start_temp = 0\n",
    "for i in range(len(curvex_3)):\n",
    "    q = 1000+(np.random.rand(1)-0.5)*1000\n",
    "    curvey_3[i] = func_1(0.5, q, start_temp)\n",
    "    start_temp =  curvey_3[i]"
   ]
  },
  {
   "cell_type": "code",
   "execution_count": 60,
   "metadata": {},
   "outputs": [
    {
     "data": {
      "text/plain": [
       "[<matplotlib.lines.Line2D at 0x7f29cea38bd0>]"
      ]
     },
     "execution_count": 60,
     "metadata": {},
     "output_type": "execute_result"
    },
    {
     "data": {
      "image/png": "[encoded data removed]",
      "text/plain": [
       "<matplotlib.figure.Figure at 0x7f29cf1905d0>"
      ]
     },
     "metadata": {},
     "output_type": "display_data"
    }
   ],
   "source": [
    "plt.plot(curvex_3, curvey_3, 'r')"
   ]
  },
  {
   "cell_type": "code",
   "execution_count": null,
   "metadata": {},
   "outputs": [],
   "source": []
  },
  {
   "cell_type": "code",
   "execution_count": null,
   "metadata": {},
   "outputs": [],
   "source": []
  }
 ],
 "metadata": {
  "kernelspec": {
   "display_name": "Python 3",
   "language": "python",
   "name": "python3"
  },
  "language_info": {
   "codemirror_mode": {
    "name": "ipython",
    "version": 3
   },
   "file_extension": ".py",
   "mimetype": "text/x-python",
   "name": "python",
   "nbconvert_exporter": "python",
   "pygments_lexer": "ipython3",
   "version": "3.6.1"
  }
 },
 "nbformat": 4,
 "nbformat_minor": 2
}
