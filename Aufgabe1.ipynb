{
 "cells": [
  {
   "cell_type": "markdown",
   "metadata": {},
   "source": [
    "# Aufgabenstellung\n",
    "\n",
    "Für ein Heizsystem wird ein Glastubus verwendet. Durch eine regelbare Stromzufuhr wird Wärme generiert.\n",
    "Je mehr Strom eingespeist wird, desto wärmer wird der Tubus.\n",
    "Der Tubus gibt Wärme an seine Umgebung ab.\n",
    "Die Menge der abgegebenen Wärme ist proportional zur Oberfläche des Tubus\n",
    "und des Temperaturunterschiedes zwischen dem Tubus und der Umgebung.\n",
    "Das Gleichgewicht des Temperatur-Verlustes und der Wärmeerzeugung lässt sich durch folgende Differentialgleichung ausdrücken:\n",
    "\n",
    "\\begin{align}\n",
    "m\\cdot c_P \\frac{dT}{dt} &= Q \\\\\n",
    "Q&=q_{in}-q_{out} \\\\\n",
    "q_{in} &= q \\\\\n",
    "q_{out} &=h_s \\cdot A_s(T-T_a) \n",
    "\\end{align}\n",
    "\n",
    "Das Ziel ist es ein System zu entwerfen, welches die Temperatur des Glastubus regelt. Hierbei muss darauf geachtet werden, dass die Temperatur möglichst schnell den Zeilwert erreicht und das die Temperaturschwankungen auf ein Minimum reduziert werden."
   ]
  },
  {
   "cell_type": "markdown",
   "metadata": {},
   "source": [
    "# Aufgabe\n",
    "In dieser Aufgabe soll die Differentialgleichung an einen Satz von Messdaten \"gefittet\" werden.\n",
    "Hiebei sollen $m$ (Masse), sowie $A_s$ (Oberfläche), ermittelt werden.\n",
    "Die Datei enthält Ergebnisse des Systems auf eine Sprungantwort. Die Werte der x-Achse sind die Zeitpunkte der Messungen in der Einheit Sekunde, startend bei 0 sek. Gemessen wurde die Temperaturdifferzenz zwischen dem Tubus und der Umgebung. Die Differenz wird in Kelvin angegenben und beträgt anfänglich 0 °K.\n",
    "\n",
    "Die durch die Aufgabenstellung gegebene Differentialgleichung lässt sich explizit lösen:\n",
    "\n",
    "$T(t)=k_1e^{-\\frac{T_a h_s t}{c_p m}} + \\frac{q}{T_a h_s}+T_a$\n",
    "\n",
    "Die Wahl von $k_1$ nimmt einfluss auf den Startwert des Systems zum Zeitpunkt $t=0$. \n",
    "\n",
    "\n",
    "Da in der Aufgabenstellung nur die absolute Temperatur des Tubus gegeben ist sondern die Temperaturdifferenz zwischen Tubus und Umgebung, wird $T-T_a$ als die Variable des Systems betrachtet. Dadurch ändert sich die Differentialgleichung wie folgt:\n",
    "\n",
    "$T(t)=k_1e^{-\\frac{A_s h_s t}{c_p m}} + \\frac{q}{A_s h_s}$\n",
    "\n",
    "Die Formel zeigt, dass die zu erreichende Temperaturdifferenz nicht von der Aussentemperatur abhängt. Dies bedeutet, dass beliebige Temperaturen erreicht werden können, welche in einem gewissen Bereich über der Aussentemperatur liegen, dessen obere Grenze durch die maximale Leistung des Heizelements gebenen ist (bei festen Eigenschaften des Tubus).\n",
    "\n",
    "Für die Lösung der Differentialgleichung wurde $k_1$ so gewählt, dass zum Zeitpunkt $t=0$ die Temperaturdifferenz bei $0$ liegt.\n",
    "\n",
    "$k_1= -(\\frac{q}{A_s h_s})$\n",
    "\n",
    "\n",
    "Da es sich um eine Sprungsantwort handelt wird die Heizleisztung $q$ als konstant angesehen. Ebenfalls wird die Umgebungstemperatur $T_a$ als konstant angesehen. Das heißt, dass die Außentemperatur nicht durch den Tubus beeinflusst wird, was nur bedingt der Realität entspricht. Würde dies berücksichtig werden, so würde das Modell wesentlich komplexer werden."
   ]
  },
  {
   "cell_type": "code",
   "execution_count": 12,
   "metadata": {},
   "outputs": [],
   "source": [
    "%matplotlib inline\n",
    "import numpy as np\n",
    "import scipy as sc\n",
    "import matplotlib.pyplot as plt\n",
    "from scipy.optimize import curve_fit\n",
    "import control as c"
   ]
  },
  {
   "cell_type": "code",
   "execution_count": 13,
   "metadata": {},
   "outputs": [],
   "source": [
    "#einlesen der Messdaten\n",
    "\n",
    "my_data = np.genfromtxt('measurement_data.csv', delimiter=';')\n",
    "xdata = my_data[:,0]\n",
    "time = xdata\n",
    "ydata = my_data[:,1]"
   ]
  },
  {
   "cell_type": "code",
   "execution_count": 14,
   "metadata": {},
   "outputs": [],
   "source": [
    "#definition der konstanten\n",
    "\n",
    "hs = 5 #heat transfer coefficient, W/(m^*K)\n",
    "q = 2000 #input power, W\n",
    "cp = 1078 #heat capacit of glas, J/(Kg*K)"
   ]
  },
  {
   "cell_type": "code",
   "execution_count": 15,
   "metadata": {},
   "outputs": [],
   "source": [
    "#funktion zum fit entsprechend der einleitung (Lösung der DGL)\n",
    "\n",
    "def func(t, m, As):\n",
    "    return ((-(q/(As*hs)))*np.e**(-(As*hs*t)/(cp*m))+q/(As*hs))"
   ]
  },
  {
   "cell_type": "code",
   "execution_count": 16,
   "metadata": {},
   "outputs": [],
   "source": [
    "#bestimmen der lösung durch fit\n",
    "#die hier verwendeten startwerte wurden durch grobe abschätzungen ermittelt\n",
    "popt, pcov = curve_fit(func, xdata, ydata, p0=(10, 1), bounds=([0.1, 0.1],[30, 10]))"
   ]
  },
  {
   "cell_type": "code",
   "execution_count": 17,
   "metadata": {},
   "outputs": [
    {
     "name": "stdout",
     "output_type": "stream",
     "text": [
      "fres: 3917.39 \n",
      "m:  17.90\n",
      "As:   1.27\n"
     ]
    }
   ],
   "source": [
    "#ausgabe der ergebnisse\n",
    "\n",
    "m = popt[0]\n",
    "As = popt[1]\n",
    "\n",
    "residuals = ydata - func(xdata, m, As)\n",
    "fres = sum(np.abs(residuals))\n",
    "print('fres: %6.2f ' % fres)\n",
    "print('m: %6.2f' % m)\n",
    "print('As: %6.2f' % As)"
   ]
  },
  {
   "cell_type": "code",
   "execution_count": 25,
   "metadata": {
    "scrolled": true
   },
   "outputs": [
    {
     "data": {
      "text/plain": [
       "<matplotlib.legend.Legend at 0x7f342b063550>"
      ]
     },
     "execution_count": 25,
     "metadata": {},
     "output_type": "execute_result"
    },
    {
     "data": {
      "image/png": "[encoded data removed]",
      "text/plain": [
       "<matplotlib.figure.Figure at 0x7f342b17f950>"
      ]
     },
     "metadata": {},
     "output_type": "display_data"
    }
   ],
   "source": [
    "#plotten der ergebnisse\n",
    "\n",
    "curvex = np.linspace(0,20000,10000)\n",
    "curvey = func(curvex, m, As)\n",
    "\n",
    "plt.plot(xdata,ydata,'*')\n",
    "plt.plot(curvex,curvey,'r')\n",
    "plt.xlabel(\"Zeit in Sekunden\")\n",
    "plt.ylabel(\"Temperaturdifferenz in Kelvin\")\n",
    "plt.legend([\"Testdaten\",\"System durch Fit\"], loc=4)"
   ]
  },
  {
   "cell_type": "code",
   "execution_count": null,
   "metadata": {},
   "outputs": [],
   "source": [
    "#finde grenzwert der gleichung durch optimierungsverfahren (umwandlung in minimierungsverfahren)\n",
    "max_x = sc.optimize.fmin(lambda x: -func(x, m, As), 0)\n",
    "\n",
    "# tatsächliche Werte mathematisch berechnen\n",
    "m_math = (np.pi*0.11**2 - np.pi * 0.1**2) * 2500\n",
    "print (m_math)\n",
    "As_math = np.pi*0.2*2\n",
    "print (As_math)"
   ]
  },
  {
   "cell_type": "markdown",
   "metadata": {},
   "source": [
    " "
   ]
  },
  {
   "cell_type": "markdown",
   "metadata": {},
   "source": [
    "# Auswertung\n",
    "Die rote Kurve beschreibt die Temperaturdifferenz zwischen Tubus und Umgebung in Abhängigkeit zur Zeit, welche durch die Lösung der Differentialgleichung bei den gegebenen Konstanten bestimmt wurde. Die Werte für $m$ und $A_s$ wurden anhand der Messdaten gefittet ($m=17.90$ und $A_s=1.27$). Es wurde davon ausgegengen, dass die Höhe des Eingangssignals der Sprungantwort 2 kW beträgt.\n",
    "Die Messdaten sind als blaue Sterne markiert. Es ist zu erkennen, dass die ermittelte Kurve gegen einen Grenzwert konvergiert ( $max_{temp} = \\tilde{}314.643$ ). Trotz starker Streuungen haben die Messdaten einen ähnlichen Verlauf und scheinen gegen den selben Wert zu laufen.\n",
    "\n",
    "Der Tubus erwärmt sich solange, bis der Energieverlust zur Außenwelt ein Gleichgewicht mit der Leistung des Heizelementes bildet. Die Kurve weißt ein logarithmisches Wachstum auf. Anfangs ist die Temperaturzunahme maximal, läuft aber schnell in eine Sättigungsphase.\n",
    "\n",
    "Mathemetisch Berechnung der Werte für Masse und Außenfläche:\n",
    "\n",
    "$m = (\\pi*r_{aussen}^2*h - \\pi*r_{innen}^2*h)*Dichte = (1*\\pi*0.11^2 - 1*\\pi*0.1^2) *2500 = 16.4933$ \n",
    "\n",
    "$A_s = 2*\\pi*r_{isolierung}*h =  2*\\pi*0.2*1 = 1.2566$\n",
    "\n",
    "Durch den Fit ermittelte Werte sind $17.90kg$ für die Masse und Aussenfläche $1.27m^2$ für die Aussenfläche. Der Wert für die Aussenfläche weicht um ca. 1.1% ab und die gefittete Masse um ca. 8.5%. Trotz der starken Streuung der Testdaten sind liegen die ermittelten Werte in einer akzeptablen Umgebung der mathematisch berechneten Werte."
   ]
  },
  {
   "cell_type": "code",
   "execution_count": null,
   "metadata": {},
   "outputs": [],
   "source": []
  },
  {
   "cell_type": "code",
   "execution_count": null,
   "metadata": {},
   "outputs": [],
   "source": []
  },
  {
   "cell_type": "code",
   "execution_count": null,
   "metadata": {},
   "outputs": [],
   "source": []
  },
  {
   "cell_type": "code",
   "execution_count": null,
   "metadata": {},
   "outputs": [],
   "source": []
  }
 ],
 "metadata": {
  "kernelspec": {
   "display_name": "Python 2",
   "language": "python",
   "name": "python2"
  },
  "language_info": {
   "codemirror_mode": {
    "name": "ipython",
    "version": 2
   },
   "file_extension": ".py",
   "mimetype": "text/x-python",
   "name": "python",
   "nbconvert_exporter": "python",
   "pygments_lexer": "ipython2",
   "version": "2.7.12"
  }
 },
 "nbformat": 4,
 "nbformat_minor": 2
}
