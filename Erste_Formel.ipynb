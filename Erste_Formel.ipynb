{
 "cells": [
  {
   "cell_type": "markdown",
   "metadata": {},
   "source": [
    "# Aufgabenstellung\n",
    "\n",
    "Für ein Heizsystem wird ein Glastubus verwendet. Durch eine regelbare Stromzufuhr wird Wärme generiert.\n",
    "Je mehr Strom eingespeist wird, desto wärmer wird der Tubus.\n",
    "Dieser Tubus gibt Wärme an seine Umgebung ab.\n",
    "Dies geschieht Proportional zu der Oberfläche des Tubus\n",
    "und des Temperaturunterschiedes zwischen dem Tubus und der Umgebungstemperatur.\n",
    "Das Gleichgewicht des Temperatur-Verlustes und der Wärmeerzeugung lässt sich durch folgende Differentialgleichung ausdrücken:\n",
    "\n",
    "$\\begin{align}\n",
    "m\\cdot c_P \\frac{dT}{dt} &= Q \\\\\n",
    "Q&=q_{in}-q_{out} \\\\\n",
    "q_{in} &= q \\\\\n",
    "q_{out} &=h_s \\cdot A_s(T-T_a)\n",
    "\\end{align}$\n",
    "\n",
    "Das Ziel ist es, die Temperatur möglichst schnell mit wenig Schwankungen auf ein gewünschtes Niveau zu bringen.\n"
   ]
  },
  {
   "cell_type": "markdown",
   "metadata": {},
   "source": [
    "# Aufgabe 1\n",
    "In dieser Aufgabe soll die Differentialgleichung an einen Satz von Messdaten \"gefittet\" werden.\n",
    "Hiebei sollen $m$ (Masse), sowie $A_s$ (Oberfläche), ermittelt werden.\n",
    "Die Datei enthält Ergebnisse des Systems auf eine Sprungantwort.\n",
    "\n",
    "Die angegebene Differentialgleichung lässt sich explizit lösen:\n",
    "\n",
    "$T(t)=k_1e^{-\\frac{T_a h_s t}{c_p m}} + \\frac{q}{T_a h}+T_a$\n",
    "\n",
    "$k_1$ wurde so gewählt, dass die Temperatur bei $0$ beginnt ($T(0) = 0$).\n",
    "\n",
    "$k_1= -(\\frac{q}{A_s h_s}+T_a)$"
   ]
  },
  {
   "cell_type": "code",
   "execution_count": 61,
   "metadata": {},
   "outputs": [],
   "source": [
    "%matplotlib inline\n",
    "import numpy as np\n",
    "import scipy as sc\n",
    "import matplotlib.pyplot as plt\n",
    "from scipy.optimize import curve_fit\n"
   ]
  },
  {
   "cell_type": "code",
   "execution_count": 62,
   "metadata": {},
   "outputs": [],
   "source": [
    "#einlesen der Messdaten\n",
    "\n",
    "my_data = np.genfromtxt('measurement_data.csv', delimiter=';')\n",
    "xdata = my_data[:,0]\n",
    "ydata = my_data[:,1]"
   ]
  },
  {
   "cell_type": "code",
   "execution_count": 63,
   "metadata": {},
   "outputs": [],
   "source": [
    "#definition der konstanten\n",
    "\n",
    "hs = 5\n",
    "q = 1500\n",
    "Ta = 20"
   ]
  },
  {
   "cell_type": "code",
   "execution_count": 64,
   "metadata": {},
   "outputs": [],
   "source": [
    "#funktion zum fit \n",
    "\n",
    "def func(t, m, As):\n",
    "    return ((-(q/(As*hs)+Ta))*np.e**(-(As*hs*t)/(1078*m))+q/(As*hs)+Ta)"
   ]
  },
  {
   "cell_type": "code",
   "execution_count": 65,
   "metadata": {},
   "outputs": [],
   "source": [
    "#bestimmen der lösung durch fit\n",
    "\n",
    "popt, pcov = curve_fit(func, xdata, ydata, p0=(1, 1), bounds=([0.1, 0.1],[30, 30]))"
   ]
  },
  {
   "cell_type": "code",
   "execution_count": 66,
   "metadata": {},
   "outputs": [
    {
     "name": "stdout",
     "output_type": "stream",
     "text": [
      "fres: 3917.39 \n",
      "m:  14.34\n",
      "As:   1.02\n"
     ]
    }
   ],
   "source": [
    "#ausgabe der ergebnisse\n",
    "\n",
    "m = popt[0]\n",
    "As = popt[1]\n",
    "\n",
    "residuals = ydata - func(xdata, m, As)\n",
    "fres = sum(np.abs(residuals))\n",
    "print('fres: %6.2f ' % fres)\n",
    "print('m: %6.2f' % m)\n",
    "print('As: %6.2f' % As)"
   ]
  },
  {
   "cell_type": "code",
   "execution_count": 67,
   "metadata": {},
   "outputs": [
    {
     "data": {
      "text/plain": [
       "Text(0,0.5,'Y-data')"
      ]
     },
     "execution_count": 67,
     "metadata": {},
     "output_type": "execute_result"
    },
    {
     "data": {
      "image/png": "[encoded data removed]",
      "text/plain": [
       "<matplotlib.figure.Figure at 0xd69a7f0>"
      ]
     },
     "metadata": {},
     "output_type": "display_data"
    }
   ],
   "source": [
    "#plotten der ergebnisse\n",
    "\n",
    "curvex = np.linspace(0,20000,10000)\n",
    "curvey = func(curvex, m, As)\n",
    "\n",
    "plt.plot(xdata,ydata,'*')\n",
    "plt.plot(curvex,curvey,'r')\n",
    "plt.xlabel(\"X-data\")\n",
    "plt.ylabel(\"Y-data\")"
   ]
  },
  {
   "cell_type": "code",
   "execution_count": 68,
   "metadata": {},
   "outputs": [
    {
     "name": "stdout",
     "output_type": "stream",
     "text": [
      "Optimization terminated successfully.\n",
      "         Current function value: -314.643006\n",
      "         Iterations: 59\n",
      "         Function evaluations: 147\n"
     ]
    }
   ],
   "source": [
    "#finden des grenzwertes\n",
    "\n",
    "max_x = sc.optimize.fmin(lambda x: -func(x, m, As), 0)"
   ]
  },
  {
   "cell_type": "markdown",
   "metadata": {},
   "source": []
  },
  {
   "cell_type": "markdown",
   "metadata": {},
   "source": [
    "# Annahmen\n",
    "Der Anliegende Strom $q$, sowie die Umgebungstemperatur $T_a$, werden als konstant angesehen. Die Außentemperatur wird nicht durch den Tubus beeinflusst, was nicht ganz der Realität entspricht. Würde dies berücksichtig werden, so würde das Modell wesentlich komplexer werden.\n",
    "\n",
    "# Auswertung\n",
    "Die rote Kurve veranschaulicht den Temperaturunterschied von der Temperatur des Tubus zur Umgebungstemperatur. Die Eingabedaten sind als blaue Sterne markiert sind. Es ist zu erkennen, dass die Lösung gegen einen Grenzwert konvergiert ( $max_x = \\tilde{}314.643$ ). Trotz starker Streuungen scheinen die Messdaten gegen den selben Wert zu laufen und weisen daher das gleiche Verhalten auf.\n",
    "\n",
    "Der Tubus erwärmt sich solange, bis der Energieverlust zur Außenwelt ein Gleichgewicht mit der Leistung des Heizelementes bildet."
   ]
  },
  {
   "cell_type": "markdown",
   "metadata": {},
   "source": [
    "# Teil 2\n",
    "ab jetzt werden die berechneten Werte für m und As eingesetzt, Ta und nocheinmal gefittes anhand der festen Werte"
   ]
  },
  {
   "cell_type": "code",
   "execution_count": 35,
   "metadata": {},
   "outputs": [],
   "source": [
    "m = 16.49331431\n",
    "As = 1.256637061\n",
    "hs = 5"
   ]
  },
  {
   "cell_type": "code",
   "execution_count": 36,
   "metadata": {},
   "outputs": [],
   "source": [
    "def func(t, q, Ta):\n",
    "    return (-((q/(As*hs)+Ta)+Ta)*np.e**(-(As*hs*t)/(1078*m))+q/(As*hs)+Ta)"
   ]
  },
  {
   "cell_type": "code",
   "execution_count": 37,
   "metadata": {},
   "outputs": [
    {
     "name": "stdout",
     "output_type": "stream",
     "text": [
      "fres: 3938.01 \n",
      "q: 1876.23\n",
      "Ta:  14.21\n"
     ]
    }
   ],
   "source": [
    "popt, pcov = curve_fit(func, xdata, ydata, p0=(1000, 30), bounds=([0, -20],[2000, 100]))\n",
    "q  = popt[0]\n",
    "Ta = popt[1]\n",
    "\n",
    "residuals = ydata - func(xdata ,q, Ta)\n",
    "fres = sum(np.abs(residuals))\n",
    "print('fres: %6.2f ' % fres)\n",
    "print('q: %6.2f' % q)\n",
    "print('Ta: %6.2f' % Ta)"
   ]
  },
  {
   "cell_type": "code",
   "execution_count": 38,
   "metadata": {},
   "outputs": [
    {
     "data": {
      "text/plain": [
       "Text(0,0.5,'Y-data')"
      ]
     },
     "execution_count": 38,
     "metadata": {},
     "output_type": "execute_result"
    },
    {
     "data": {
      "image/png": "[encoded data removed]",
      "text/plain": [
       "<matplotlib.figure.Figure at 0xd24a150>"
      ]
     },
     "metadata": {},
     "output_type": "display_data"
    }
   ],
   "source": [
    "curvex= np.linspace(0,20000,10000)\n",
    "curvey= func(curvex, q, Ta)\n",
    "plt.plot(xdata,ydata,'*')\n",
    "plt.plot(curvex,curvey,'r')\n",
    "plt.xlabel(\"X-data\")\n",
    "plt.ylabel(\"Y-data\")"
   ]
  },
  {
   "cell_type": "markdown",
   "metadata": {},
   "source": [
    "# -> wähle Ta als 14 Kelvin/Grad C\n",
    "Nun ermittle maximale Temperatur des Tubus bei maximaler Heizleistung von 2kW\n",
    "\n",
    "Berechnung: q_in = q_out, also Energieverlust pro Zeit ist gleich der Heizleistung von 2kW"
   ]
  },
  {
   "cell_type": "code",
   "execution_count": 39,
   "metadata": {},
   "outputs": [],
   "source": [
    "Ta = 7.11"
   ]
  },
  {
   "cell_type": "code",
   "execution_count": 40,
   "metadata": {},
   "outputs": [
    {
     "name": "stdout",
     "output_type": "stream",
     "text": [
      "Die maximal zu erreichende Temperatur liegt bei: 325.41988629420985 (bei festem Ta von 7.11.\n"
     ]
    },
    {
     "data": {
      "text/plain": [
       "314.1176470588235"
      ]
     },
     "execution_count": 40,
     "metadata": {},
     "output_type": "execute_result"
    },
    {
     "data": {
      "image/png": "[encoded data removed]",
      "text/plain": [
       "<matplotlib.figure.Figure at 0xd284a10>"
      ]
     },
     "metadata": {},
     "output_type": "display_data"
    }
   ],
   "source": [
    "#2 - hs*As*(T-Ta)= 0\n",
    "T_max = 2000/(hs*As)+Ta \n",
    "print (\"Die maximal zu erreichende Temperatur liegt bei: {} (bei festem Ta von {}.\".format(T_max, Ta))\n",
    "\n",
    "def maxT(Ta_local):\n",
    "    return 2000/(hs*As)+Ta_local\n",
    "\n",
    "aussentemperatur = np.linspace(-20,100,120)\n",
    "T_max= maxT(aussentemperatur)\n",
    "plt.plot(aussentemperatur,aussentemperatur,'r')\n",
    "plt.xlabel(\"Ta\")\n",
    "plt.ylabel(\"T_max\")\n",
    "\n",
    "2000/(hs*1.36)+20"
   ]
  },
  {
   "cell_type": "markdown",
   "metadata": {},
   "source": [
    "Das System ist in dem Sinne linear, dass bei Doppelter Leistung sich auch eine doppelt so hohe Temperatur einstellt."
   ]
  },
  {
   "cell_type": "code",
   "execution_count": 41,
   "metadata": {},
   "outputs": [
    {
     "data": {
      "text/plain": [
       "Text(0,0.5,'Y-data')"
      ]
     },
     "execution_count": 41,
     "metadata": {},
     "output_type": "execute_result"
    },
    {
     "data": {
      "image/png": "[encoded data removed]",
      "text/plain": [
       "<matplotlib.figure.Figure at 0xd2ba850>"
      ]
     },
     "metadata": {},
     "output_type": "display_data"
    }
   ],
   "source": [
    "curvex= np.linspace(0,20000,1000)\n",
    "curvey= func(curvex, 1, Ta)\n",
    "plt.plot(curvex,curvey,'r')\n",
    "plt.xlabel(\"X-data\")\n",
    "plt.ylabel(\"Y-data\")"
   ]
  },
  {
   "cell_type": "markdown",
   "metadata": {},
   "source": [
    "Das die Messadten im Negativen Bereich beginnen, sieht man in dem hier präsentierten Graphen. Die Temperatur steigt nimmt in den ersten 5000 Sekunden um 12 Grad zu, jedoch stellt sich die Endtemperatur erst nach ca 13000 Sekunden, bei 0 Grad ein. "
   ]
  },
  {
   "cell_type": "code",
   "execution_count": 42,
   "metadata": {},
   "outputs": [],
   "source": [
    "f = 1000000\n",
    "#IST DAS SCHUMMELEI? MÖGLICH...\n",
    "def u(t, f):\n",
    "    return 1000*np.sin(np.pi*((f*2*t)%2))"
   ]
  },
  {
   "cell_type": "code",
   "execution_count": 43,
   "metadata": {},
   "outputs": [
    {
     "name": "stdout",
     "output_type": "stream",
     "text": [
      "0 0.0\n",
      "1 0.0\n",
      "2 0.0\n",
      "3 0.0\n",
      "4 0.0\n",
      "5 0.0\n",
      "6 0.0\n",
      "7 0.0\n",
      "8 0.0\n",
      "9 0.0\n"
     ]
    }
   ],
   "source": [
    "for t in range(10):\n",
    "    print(t, u(t/2, f))\n",
    "#stelle diese Aufgabe zurück, frage mal nach: ist immer 0 gewollt? was für ein Offset?"
   ]
  },
  {
   "cell_type": "code",
   "execution_count": 44,
   "metadata": {},
   "outputs": [
    {
     "name": "stdout",
     "output_type": "stream",
     "text": [
      "166.26494314710493\n"
     ]
    },
    {
     "data": {
      "text/plain": [
       "Text(0,0.5,'Y-data')"
      ]
     },
     "execution_count": 44,
     "metadata": {},
     "output_type": "execute_result"
    },
    {
     "data": {
      "image/png": "[encoded data removed]",
      "text/plain": [
       "<matplotlib.figure.Figure at 0xd2edb30>"
      ]
     },
     "metadata": {},
     "output_type": "display_data"
    }
   ],
   "source": [
    "# simuliere constante von 1kW -> berechne erzielte Temperatur bei 1kW leistung\n",
    "p_max = 1000\n",
    "T_1kW = p_max/(hs*As)+Ta\n",
    "print(T_1kW)\n",
    "\n",
    "# Funktion der Temperatur, welche bei der einer Temperatur anfängt, welche bei einer Leistung von 1kW entsteht\n",
    "def func_with_pre_temp(t, q, T_pre):\n",
    "    return (-(q/(As*hs)+Ta)*np.e**(-(As*hs*t)/(1078*m))+q/(As*hs)+Ta)+T_pre\n",
    "\n",
    "curvex= np.linspace(0,20000,10000)\n",
    "curvey= func_with_pre_temp(curvex, q, T_1kW)\n",
    "plt.plot(curvex,curvey,'r')\n",
    "plt.xlabel(\"X-data\")\n",
    "plt.ylabel(\"Y-data\")"
   ]
  },
  {
   "cell_type": "code",
   "execution_count": null,
   "metadata": {},
   "outputs": [],
   "source": []
  },
  {
   "cell_type": "code",
   "execution_count": 45,
   "metadata": {},
   "outputs": [],
   "source": [
    "def func_1(t, q, start_temp):\n",
    "    return (-((q/(As*hs)+Ta)-start_temp)*np.e**(-(As*hs*t)/(1078*m))+q/(As*hs)+Ta)\n",
    "    \n",
    "q = 1000\n",
    "time_offset = 0\n",
    "start_temp = 0\n",
    "curvex = np.arange(0, 300*60, 0.5)\n",
    "curvey = np.arange(0, 300*60, 0.5)\n",
    "\n",
    "\n",
    "m = 16.49\n",
    "As = 1.35\n",
    "Ta = 7.11\n",
    "\n",
    "for i in range(len(curvex)):\n",
    "    if(curvex[i] == 1800):\n",
    "        q = 2000\n",
    "        time_offset = 1800\n",
    "        start_temp = curvey[i-1]\n",
    "    curvey[i] = func_1(curvex[i]-time_offset, q, start_temp)"
   ]
  },
  {
   "cell_type": "code",
   "execution_count": 46,
   "metadata": {},
   "outputs": [
    {
     "data": {
      "text/plain": [
       "[<matplotlib.lines.Line2D at 0xd371eb0>]"
      ]
     },
     "execution_count": 46,
     "metadata": {},
     "output_type": "execute_result"
    },
    {
     "data": {
      "image/png": "[encoded data removed]",
      "text/plain": [
       "<matplotlib.figure.Figure at 0xd320d10>"
      ]
     },
     "metadata": {},
     "output_type": "display_data"
    }
   ],
   "source": [
    "plt.plot(curvex, curvey, 'r')"
   ]
  },
  {
   "cell_type": "code",
   "execution_count": 47,
   "metadata": {},
   "outputs": [
    {
     "name": "stdout",
     "output_type": "stream",
     "text": [
      "93.42914537794094\n"
     ]
    }
   ],
   "source": [
    "print(curvey[4000])"
   ]
  },
  {
   "cell_type": "code",
   "execution_count": 48,
   "metadata": {},
   "outputs": [],
   "source": [
    "curvex_3 = np.arange(0, 250*60, 0.5)\n",
    "curvey_3 = np.arange(0, 250*60, 0.5)\n",
    "\n",
    "start_temp = 0\n",
    "for i in range(len(curvex_3)):\n",
    "    q = 1000+(np.random.rand(1)-0.5)*1000\n",
    "    curvey_3[i] = func_1(0.5, q, start_temp)\n",
    "    start_temp =  curvey_3[i]"
   ]
  },
  {
   "cell_type": "code",
   "execution_count": 49,
   "metadata": {},
   "outputs": [
    {
     "data": {
      "text/plain": [
       "[<matplotlib.lines.Line2D at 0xd4f87b0>]"
      ]
     },
     "execution_count": 49,
     "metadata": {},
     "output_type": "execute_result"
    },
    {
     "data": {
      "image/png": "[encoded data removed]",
      "text/plain": [
       "<matplotlib.figure.Figure at 0xd38a4f0>"
      ]
     },
     "metadata": {},
     "output_type": "display_data"
    }
   ],
   "source": [
    "plt.plot(curvex_3, curvey_3, 'r')"
   ]
  },
  {
   "cell_type": "code",
   "execution_count": null,
   "metadata": {},
   "outputs": [],
   "source": []
  },
  {
   "cell_type": "code",
   "execution_count": null,
   "metadata": {},
   "outputs": [],
   "source": []
  }
 ],
 "metadata": {
  "kernelspec": {
   "display_name": "Python 3",
   "language": "python",
   "name": "python3"
  },
  "language_info": {
   "codemirror_mode": {
    "name": "ipython",
    "version": 3
   },
   "file_extension": ".py",
   "mimetype": "text/x-python",
   "name": "python",
   "nbconvert_exporter": "python",
   "pygments_lexer": "ipython3",
   "version": "3.6.1"
  }
 },
 "nbformat": 4,
 "nbformat_minor": 2
}
