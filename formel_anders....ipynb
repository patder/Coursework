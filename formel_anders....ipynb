{
 "cells": [
  {
   "cell_type": "markdown",
   "metadata": {},
   "source": [
    "# Aufgabenstellung\n",
    "\n",
    "Für ein Heizsystem wird ein Glastubus verwendet. Durch eine regelbare Stromzufuhr wird Wärme generiert.\n",
    "Je mehr Strom eingespeist wird, desto wärmer wird der Tubus.\n",
    "Der Tubus gibt Wärme an seine Umgebung ab.\n",
    "Die Menge der abgegebenen Wärme ist proportional zur Oberfläche des Tubus\n",
    "und des Temperaturunterschiedes zwischen dem Tubus und der Umgebung.\n",
    "Das Gleichgewicht des Temperatur-Verlustes und der Wärmeerzeugung lässt sich durch folgende Differentialgleichung ausdrücken:\n",
    "\n",
    "$\\begin{align}\n",
    "m\\cdot c_P \\frac{dT}{dt} &= Q \\\\\n",
    "Q&=q_{in}-q_{out} \\\\\n",
    "q_{in} &= q \\\\\n",
    "q_{out} &=h_s \\cdot A_s(T-T_a)\n",
    "\\end{align}$\n",
    "\n",
    "Das Ziel ist es ein System zu entwerfen, welches die Temperatur des Glastubus regelt. Hierbei muss darauf geachtet werden, dass die Temperatur möglichst schnell den Zeilwert erreicht und das die Temperaturschwankungen auf ein Minimum reduziert werden."
   ]
  },
  {
   "cell_type": "markdown",
   "metadata": {},
   "source": [
    "# Aufgabe 1\n",
    "In dieser Aufgabe soll die Differentialgleichung an einen Satz von Messdaten \"gefittet\" werden.\n",
    "Hiebei sollen $m$ (Masse), sowie $A_s$ (Oberfläche), ermittelt werden.\n",
    "Die Datei enthält Ergebnisse des Systems auf eine Sprungantwort. Die Werte der x-Achse sind die Zeitpunkte der Messungen in der Einheit Sekunde, startend bei 0 sek. Gemessen wurde die Temperaturdifferzenz zwischen dem Tubus und der Umgebung. Die Differenz wird in Kelvin angegenben und beträgt anfänglich 0 °K.\n",
    "\n",
    "Die durch die Aufgabenstellung gegebene Differentialgleichung lässt sich explizit lösen:\n",
    "\n",
    "$T(t)=k_1e^{-\\frac{T_a h_s t}{c_p m}} + \\frac{q}{T_a h_s}+T_a$\n",
    "\n",
    "Die Wahl von $k_1$ nimmt einfluss auf den Startwert des Systems zum Zeitpunkt $t=0$. \n",
    "\n",
    "\n",
    "Da in der Aufgabenstellung nut die Absolute Temperatur des Tubus gegeben ist sondern die Temperaturdifferenz zwischen Tubus und Umgebung, wird folgende Anfangsbedingung an das System gestellt $T(0)=T_a$. Dadurch ändert sich die Differentialgleichung wie folgt:\n",
    "\n",
    "$T(t)=\\frac{A_s T_a h_s-q e^(\\frac{-A_s h_s t}{c_p m})+q}{A_s h_s}$\n",
    "\n",
    "Die Formel zeigt, dass die zu erreichende Temperaturdifferenz nicht von der Aussentemperatur abhängt. Dies bedeutet, dass beliebige Temperaturen erreicht werden können, welche in einem gewissen Bereich über der Aussentemperatur liegen, dessen obere Grenze durch die maximale Leistung des Heizelements gebenen ist (bei festen Eigenschaften des Tubus).\n",
    "\n",
    "Da es sich um eine Sprungsantwort handelt wird die Heizleisztung $q$ als konstant angesehen. Ebenfalls wird die Umgebungstemperatur $T_a$ als konstant angesehen. Das heißt, dass die Außentemperatur nicht durch den Tubus beeinflusst wird, was nur bedingt der Realität entspricht. Würde dies berücksichtig werden, so würde das Modell wesentlich komplexer werden."
   ]
  },
  {
   "cell_type": "code",
   "execution_count": 18,
   "metadata": {},
   "outputs": [],
   "source": [
    "%matplotlib inline\n",
    "import numpy as np\n",
    "import scipy as sc\n",
    "import matplotlib.pyplot as plt\n",
    "from scipy.optimize import curve_fit"
   ]
  },
  {
   "cell_type": "code",
   "execution_count": 19,
   "metadata": {},
   "outputs": [],
   "source": [
    "#einlesen der Messdaten\n",
    "\n",
    "my_data = np.genfromtxt('measurement_data.csv', delimiter=';')\n",
    "xdata = my_data[:,0]\n",
    "ydata = my_data[:,1]"
   ]
  },
  {
   "cell_type": "code",
   "execution_count": 20,
   "metadata": {},
   "outputs": [],
   "source": [
    "#definition der konstanten\n",
    "\n",
    "hs = 5\n",
    "q = 1500\n",
    "Ta = 20\n",
    "cp = 1078"
   ]
  },
  {
   "cell_type": "code",
   "execution_count": 21,
   "metadata": {},
   "outputs": [],
   "source": [
    "#funktion zum fit \n",
    "\n",
    "def func(t, m, As):\n",
    "    return (As*Ta*hs-q*np.exp((-As*hs*t)/(cp*m))+q)/(As*hs)"
   ]
  },
  {
   "cell_type": "code",
   "execution_count": 22,
   "metadata": {},
   "outputs": [],
   "source": [
    "#bestimmen der lösung durch fit\n",
    "# die hier verwendeten startwerte wurden durch grobe abschätzungen ermittelt\n",
    "popt, pcov = curve_fit(func, xdata, ydata, p0=(10, 1), bounds=([0.1, 0.1],[30, 10]))"
   ]
  },
  {
   "cell_type": "code",
   "execution_count": 23,
   "metadata": {},
   "outputs": [
    {
     "name": "stdout",
     "output_type": "stream",
     "text": [
      "fres: 3922.15 \n",
      "m:  15.52\n",
      "As:   1.01\n"
     ]
    }
   ],
   "source": [
    "#ausgabe der ergebnisse\n",
    "\n",
    "m = popt[0]\n",
    "As = popt[1]\n",
    "\n",
    "residuals = ydata - func(xdata, m, As)\n",
    "fres = sum(np.abs(residuals))\n",
    "print('fres: %6.2f ' % fres)\n",
    "print('m: %6.2f' % m)\n",
    "print('As: %6.2f' % As)"
   ]
  },
  {
   "cell_type": "code",
   "execution_count": 24,
   "metadata": {},
   "outputs": [
    {
     "data": {
      "text/plain": [
       "Text(0,0.5,'Temperaturdifferenz in Kelvin')"
      ]
     },
     "execution_count": 24,
     "metadata": {},
     "output_type": "execute_result"
    },
    {
     "data": {
      "image/png": "[encoded data removed]",
      "text/plain": [
       "<matplotlib.figure.Figure at 0xaac28d0>"
      ]
     },
     "metadata": {},
     "output_type": "display_data"
    }
   ],
   "source": [
    "#plotten der ergebnisse\n",
    "\n",
    "curvex = np.linspace(0,20000,10000)\n",
    "curvey = func(curvex, m, As)\n",
    "\n",
    "plt.plot(xdata,ydata,'*')\n",
    "plt.plot(curvex,curvey,'r')\n",
    "plt.xlabel(\"Zeit in Sekunden\")\n",
    "plt.ylabel(\"Temperaturdifferenz in Kelvin\")"
   ]
  },
  {
   "cell_type": "code",
   "execution_count": 17,
   "metadata": {},
   "outputs": [
    {
     "name": "stdout",
     "output_type": "stream",
     "text": [
      "Optimization terminated successfully.\n",
      "         Current function value: -314.735770\n",
      "         Iterations: 59\n",
      "         Function evaluations: 147\n"
     ]
    }
   ],
   "source": [
    "#finde grenzwert der gleichung durch optimierungsverfahren (umwandlung in minimierungsverfahren)\n",
    "max_x = sc.optimize.fmin(lambda x: -func(x, m, As), 0)"
   ]
  },
  {
   "cell_type": "markdown",
   "metadata": {},
   "source": [
    " "
   ]
  },
  {
   "cell_type": "markdown",
   "metadata": {},
   "source": [
    "# Auswertung\n",
    "Die rote Kurve beschreibt die Temperaturdifferenz zwischen Tubus und Umgebung in Abhängigkeit zur Zeit, welche durch die Lösung der Differentialgleichung bei den gegebenen Konstanten bestimmt wurde. Die Werte für $m$ und $A_s$ wurden anhand der Messdaten gefittet ($m=\\tilde{}13.42$ und $A_s=\\tilde{}0.95$, die Angaben können bei geänderten Werten variieren).\n",
    "Die Messdaten sind als blaue Sterne markiert. Es ist zu erkennen, dass die ermittelte Kurve gegen einen Grenzwert konvergiert ( $max_x = \\tilde{}314.643$ ). Trotz starker Streuungen haben die Messdaten einen ähnlichen Verlauf und scheinen gegen den selben Wert zu laufen.\n",
    "\n",
    "Der Tubus erwärmt sich solange, bis der Energieverlust zur Außenwelt ein Gleichgewicht mit der Leistung des Heizelementes bildet. Die Kurve weißt ein logarithmisches Wachstum auf. Anfangs ist die Temperaturzunahme maximal, läuft aber schnell in eine Sättigungsphase bei gleich bleibendem $q$.\n",
    "\n",
    "Mathemetisch Berechnung der Werte für Masse und Außenfläche:\n",
    "\n",
    "$m = (\\pi*r_{aussen}^2*h - \\pi*r_{innen}^2*h)*Dichte = (1*\\pi*0.11^2 - 1*\\pi*0.1^2) *2500 = 16.4933$ \n",
    "\n",
    "$A_s = 2*\\pi*r_{isolierung}*h =  2*\\pi*0.2*1 = 1.2566$\n",
    "\n",
    "Durch den Fit ermittelte Werte sind $13.42kg$ für die Masse und Aussenfläche $0.95m^2$ für die Aussenfläche. Der Wert für die Aussenfläche weicht um ca. 25% ab und die gefittete Masse um ca 20%. \n",
    "\n",
    "# vergleich überarbeiten wenn wert der eingangsspannung fest steht"
   ]
  },
  {
   "cell_type": "code",
   "execution_count": 26,
   "metadata": {},
   "outputs": [
    {
     "name": "stdout",
     "output_type": "stream",
     "text": [
      "16.493361431346408\n",
      "1.2566370614359172\n"
     ]
    }
   ],
   "source": [
    "m_math = (np.pi*0.11**2 - np.pi * 0.1**2) * 2500\n",
    "print(m_math)\n",
    "As_math = np.pi*0.2*2\n",
    "print(As_math)"
   ]
  },
  {
   "cell_type": "markdown",
   "metadata": {},
   "source": [
    "# Teil 2\n",
    "ab jetzt werden die berechneten Werte für m und As eingesetzt, Ta und nocheinmal gefittes anhand der festen Werte"
   ]
  },
  {
   "cell_type": "code",
   "execution_count": 27,
   "metadata": {},
   "outputs": [],
   "source": [
    "m = 16.49331431\n",
    "As = 1.256637061\n",
    "hs = 5"
   ]
  },
  {
   "cell_type": "code",
   "execution_count": 28,
   "metadata": {},
   "outputs": [],
   "source": [
    "def func(t, q, Ta):\n",
    "    return (-((q/(As*hs)+Ta)+Ta)*np.e**(-(As*hs*t)/(1078*m))+q/(As*hs)+Ta)"
   ]
  },
  {
   "cell_type": "code",
   "execution_count": 29,
   "metadata": {},
   "outputs": [
    {
     "name": "stdout",
     "output_type": "stream",
     "text": [
      "fres: 3938.01 \n",
      "q: 1876.23\n",
      "Ta:  14.21\n"
     ]
    }
   ],
   "source": [
    "popt, pcov = curve_fit(func, xdata, ydata, p0=(1000, 30), bounds=([0, -20],[2000, 100]))\n",
    "q  = popt[0]\n",
    "Ta = popt[1]\n",
    "\n",
    "residuals = ydata - func(xdata ,q, Ta)\n",
    "fres = sum(np.abs(residuals))\n",
    "print('fres: %6.2f ' % fres)\n",
    "print('q: %6.2f' % q)\n",
    "print('Ta: %6.2f' % Ta)"
   ]
  },
  {
   "cell_type": "code",
   "execution_count": 30,
   "metadata": {},
   "outputs": [
    {
     "data": {
      "text/plain": [
       "Text(0,0.5,'Y-data')"
      ]
     },
     "execution_count": 30,
     "metadata": {},
     "output_type": "execute_result"
    },
    {
     "data": {
      "image/png": "[encoded data removed]",
      "text/plain": [
       "<matplotlib.figure.Figure at 0xaac23f0>"
      ]
     },
     "metadata": {},
     "output_type": "display_data"
    }
   ],
   "source": [
    "curvex= np.linspace(0,20000,10000)\n",
    "curvey= func(curvex, q, Ta)\n",
    "plt.plot(xdata,ydata,'*')\n",
    "plt.plot(curvex,curvey,'r')\n",
    "plt.xlabel(\"X-data\")\n",
    "plt.ylabel(\"Y-data\")"
   ]
  },
  {
   "cell_type": "markdown",
   "metadata": {},
   "source": [
    "# -> wähle Ta als 14 Kelvin/Grad C\n",
    "Nun ermittle maximale Temperatur des Tubus bei maximaler Heizleistung von 2kW\n",
    "\n",
    "Berechnung: q_in = q_out, also Energieverlust pro Zeit ist gleich der Heizleistung von 2kW"
   ]
  },
  {
   "cell_type": "code",
   "execution_count": 31,
   "metadata": {},
   "outputs": [],
   "source": [
    "Ta = 7.11"
   ]
  },
  {
   "cell_type": "code",
   "execution_count": 32,
   "metadata": {},
   "outputs": [
    {
     "name": "stdout",
     "output_type": "stream",
     "text": [
      "Die maximal zu erreichende Temperatur liegt bei: 325.41988629420985 (bei festem Ta von 7.11.\n"
     ]
    },
    {
     "data": {
      "text/plain": [
       "314.1176470588235"
      ]
     },
     "execution_count": 32,
     "metadata": {},
     "output_type": "execute_result"
    },
    {
     "data": {
      "image/png": "[encoded data removed]",
      "text/plain": [
       "<matplotlib.figure.Figure at 0xaac2b10>"
      ]
     },
     "metadata": {},
     "output_type": "display_data"
    }
   ],
   "source": [
    "#2 - hs*As*(T-Ta)= 0\n",
    "T_max = 2000/(hs*As)+Ta \n",
    "print (\"Die maximal zu erreichende Temperatur liegt bei: {} (bei festem Ta von {}.\".format(T_max, Ta))\n",
    "\n",
    "def maxT(Ta_local):\n",
    "    return 2000/(hs*As)+Ta_local\n",
    "\n",
    "aussentemperatur = np.linspace(-20,100,120)\n",
    "T_max= maxT(aussentemperatur)\n",
    "plt.plot(aussentemperatur,aussentemperatur,'r')\n",
    "plt.xlabel(\"Ta\")\n",
    "plt.ylabel(\"T_max\")\n",
    "\n",
    "2000/(hs*1.36)+20"
   ]
  },
  {
   "cell_type": "markdown",
   "metadata": {},
   "source": [
    "Das System ist in dem Sinne linear, dass bei Doppelter Leistung sich auch eine doppelt so hohe Temperatur einstellt."
   ]
  },
  {
   "cell_type": "code",
   "execution_count": 33,
   "metadata": {},
   "outputs": [
    {
     "data": {
      "text/plain": [
       "Text(0,0.5,'Y-data')"
      ]
     },
     "execution_count": 33,
     "metadata": {},
     "output_type": "execute_result"
    },
    {
     "data": {
      "image/png": "[encoded data removed]",
      "text/plain": [
       "<matplotlib.figure.Figure at 0xcb81cd0>"
      ]
     },
     "metadata": {},
     "output_type": "display_data"
    }
   ],
   "source": [
    "curvex= np.linspace(0,20000,1000)\n",
    "curvey= func(curvex, 1, Ta)\n",
    "plt.plot(curvex,curvey,'r')\n",
    "plt.xlabel(\"X-data\")\n",
    "plt.ylabel(\"Y-data\")"
   ]
  },
  {
   "cell_type": "markdown",
   "metadata": {},
   "source": [
    "Das die Messadten im Negativen Bereich beginnen, sieht man in dem hier präsentierten Graphen. Die Temperatur steigt nimmt in den ersten 5000 Sekunden um 12 Grad zu, jedoch stellt sich die Endtemperatur erst nach ca 13000 Sekunden, bei 0 Grad ein. "
   ]
  },
  {
   "cell_type": "code",
   "execution_count": 42,
   "metadata": {},
   "outputs": [],
   "source": [
    "f = 1000000\n",
    "#IST DAS SCHUMMELEI? MÖGLICH...\n",
    "def u(t, f):\n",
    "    return 1000*np.sin(np.pi*((f*2*t)%2))"
   ]
  },
  {
   "cell_type": "code",
   "execution_count": 43,
   "metadata": {},
   "outputs": [
    {
     "name": "stdout",
     "output_type": "stream",
     "text": [
      "0 0.0\n",
      "1 0.0\n",
      "2 0.0\n",
      "3 0.0\n",
      "4 0.0\n",
      "5 0.0\n",
      "6 0.0\n",
      "7 0.0\n",
      "8 0.0\n",
      "9 0.0\n"
     ]
    }
   ],
   "source": [
    "for t in range(10):\n",
    "    print(t, u(t/2, f))\n",
    "#stelle diese Aufgabe zurück, frage mal nach: ist immer 0 gewollt? was für ein Offset?"
   ]
  },
  {
   "cell_type": "code",
   "execution_count": 34,
   "metadata": {},
   "outputs": [
    {
     "name": "stdout",
     "output_type": "stream",
     "text": [
      "166.26494314710493\n"
     ]
    },
    {
     "data": {
      "text/plain": [
       "Text(0,0.5,'Y-data')"
      ]
     },
     "execution_count": 34,
     "metadata": {},
     "output_type": "execute_result"
    },
    {
     "data": {
      "image/png": "[encoded data removed]",
      "text/plain": [
       "<matplotlib.figure.Figure at 0xcbb7930>"
      ]
     },
     "metadata": {},
     "output_type": "display_data"
    }
   ],
   "source": [
    "# simuliere constante von 1kW -> berechne erzielte Temperatur bei 1kW leistung\n",
    "p_max = 1000\n",
    "T_1kW = p_max/(hs*As)+Ta\n",
    "print(T_1kW)\n",
    "\n",
    "# Funktion der Temperatur, welche bei der einer Temperatur anfängt, welche bei einer Leistung von 1kW entsteht\n",
    "def func_with_pre_temp(t, q, T_pre):\n",
    "    return (-(q/(As*hs)+Ta)*np.e**(-(As*hs*t)/(1078*m))+q/(As*hs)+Ta)+T_pre\n",
    "\n",
    "curvex= np.linspace(0,20000,10000)\n",
    "curvey= func_with_pre_temp(curvex, q, T_1kW)\n",
    "plt.plot(curvex,curvey,'r')\n",
    "plt.xlabel(\"X-data\")\n",
    "plt.ylabel(\"Y-data\")"
   ]
  },
  {
   "cell_type": "code",
   "execution_count": null,
   "metadata": {},
   "outputs": [],
   "source": []
  },
  {
   "cell_type": "code",
   "execution_count": 35,
   "metadata": {},
   "outputs": [],
   "source": [
    "def func_1(t, q, start_temp):\n",
    "    return (-((q/(As*hs)+Ta)-start_temp)*np.e**(-(As*hs*t)/(1078*m))+q/(As*hs)+Ta)\n",
    "    \n",
    "q = 1000\n",
    "time_offset = 0\n",
    "start_temp = 0\n",
    "curvex = np.arange(0, 300*60, 0.5)\n",
    "curvey = np.arange(0, 300*60, 0.5)\n",
    "\n",
    "\n",
    "m = 16.49\n",
    "As = 1.35\n",
    "Ta = 7.11\n",
    "\n",
    "for i in range(len(curvex)):\n",
    "    if(curvex[i] == 1800):\n",
    "        q = 2000\n",
    "        time_offset = 1800\n",
    "        start_temp = curvey[i-1]\n",
    "    curvey[i] = func_1(curvex[i]-time_offset, q, start_temp)"
   ]
  },
  {
   "cell_type": "code",
   "execution_count": 36,
   "metadata": {},
   "outputs": [
    {
     "data": {
      "text/plain": [
       "[<matplotlib.lines.Line2D at 0xcbe64f0>]"
      ]
     },
     "execution_count": 36,
     "metadata": {},
     "output_type": "execute_result"
    },
    {
     "data": {
      "image/png": "[encoded data removed]",
      "text/plain": [
       "<matplotlib.figure.Figure at 0xcbb7510>"
      ]
     },
     "metadata": {},
     "output_type": "display_data"
    }
   ],
   "source": [
    "plt.plot(curvex, curvey, 'r')"
   ]
  },
  {
   "cell_type": "code",
   "execution_count": 37,
   "metadata": {},
   "outputs": [
    {
     "name": "stdout",
     "output_type": "stream",
     "text": [
      "93.42914537794094\n"
     ]
    }
   ],
   "source": [
    "print(curvey[4000])"
   ]
  },
  {
   "cell_type": "code",
   "execution_count": 38,
   "metadata": {},
   "outputs": [],
   "source": [
    "curvex_3 = np.arange(0, 250*60, 0.5)\n",
    "curvey_3 = np.arange(0, 250*60, 0.5)\n",
    "\n",
    "start_temp = 0\n",
    "for i in range(len(curvex_3)):\n",
    "    q = 1000+(np.random.rand(1)-0.5)*1000\n",
    "    curvey_3[i] = func_1(0.5, q, start_temp)\n",
    "    start_temp =  curvey_3[i]"
   ]
  },
  {
   "cell_type": "code",
   "execution_count": 39,
   "metadata": {},
   "outputs": [
    {
     "data": {
      "text/plain": [
       "[<matplotlib.lines.Line2D at 0xccae6f0>]"
      ]
     },
     "execution_count": 39,
     "metadata": {},
     "output_type": "execute_result"
    },
    {
     "data": {
      "image/png": "[encoded data removed]",
      "text/plain": [
       "<matplotlib.figure.Figure at 0xcbca810>"
      ]
     },
     "metadata": {},
     "output_type": "display_data"
    }
   ],
   "source": [
    "plt.plot(curvex_3, curvey_3, 'r')"
   ]
  },
  {
   "cell_type": "code",
   "execution_count": null,
   "metadata": {},
   "outputs": [],
   "source": []
  },
  {
   "cell_type": "code",
   "execution_count": null,
   "metadata": {},
   "outputs": [],
   "source": []
  }
 ],
 "metadata": {
  "kernelspec": {
   "display_name": "Python 3",
   "language": "python",
   "name": "python3"
  },
  "language_info": {
   "codemirror_mode": {
    "name": "ipython",
    "version": 3
   },
   "file_extension": ".py",
   "mimetype": "text/x-python",
   "name": "python",
   "nbconvert_exporter": "python",
   "pygments_lexer": "ipython3",
   "version": "3.6.1"
  }
 },
 "nbformat": 4,
 "nbformat_minor": 2
}
